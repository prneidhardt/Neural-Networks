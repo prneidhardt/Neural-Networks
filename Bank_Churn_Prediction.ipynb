{
 "cells": [
  {
   "cell_type": "markdown",
   "metadata": {},
   "source": [
    "# Artificial Neural Network Project: Predicting Customer Churn"
   ]
  },
  {
   "cell_type": "markdown",
   "metadata": {
    "id": "kf37d5GRU4PU"
   },
   "source": [
    "## Context\n",
    "\n",
    "An important component of sustainable success for a business is customer turnover or 'churn'. If a business better understood which aspects of their service most influence this decision (i.e., leave or stay), then management can then concentrate limited resources on mitigating turnover and retaining profitable customers."
   ]
  },
  {
   "cell_type": "markdown",
   "metadata": {
    "id": "783YLK7Fe7yV"
   },
   "source": [
    "## Problem statement\n",
    "\n",
    "Given a database of a bank's customers, build a neural network-based classifier that can determine whether they will leave or not in the next 6 months."
   ]
  },
  {
   "cell_type": "markdown",
   "metadata": {
    "id": "IwAnuKeBgyhF"
   },
   "source": [
    "## Data description\n",
    "\n",
    "This open-source dataset contains 10,000 sample points with 14 distinct features such as CustomerId, CreditScore, Geography, Gender, Age, Tenure, Balance, etc.\n",
    "\n",
    "## Data dictionary\n",
    "\n",
    "Independent variables:\n",
    "- CustomerId: Unique ID which is assigned to each customer\n",
    "- Surname: Last name of the customer \n",
    "- CreditScore: Defines the credit history of the customer\n",
    "- Geography: A customer’s location\n",
    "- Gender: Gender of the customer   \n",
    "- Age: Age of the customer    \n",
    "- Tenure: The number of years that the customer has been with the bank\n",
    "- NumOfProducts: The number of products that a customer has purchased through the bank\n",
    "- Balance: Account balance\n",
    "- HasCrCard: A categorical variable that identifies whether the customer has a credit card or not\n",
    "- EstimatedSalary: Estimated salary \n",
    "- isActiveMember: A categorical variable that identifies whether the customer is an active member of the bank or not\n",
    "  - An active member is determined subjectively by whether a customer uses bank products regularly, makes regular transactions, etc\n",
    "\n",
    "Dependent variable:\n",
    "- Exited: A categorical variable identifying whether the customer left the bank within six months or not. It can take two values:\n",
    "  - 0=No ( Customer did not leave the bank )\n",
    "  - 1=Yes ( Customer left the bank )\n",
    "\n"
   ]
  },
  {
   "cell_type": "markdown",
   "metadata": {
    "id": "fBYVOvFIkfdm"
   },
   "source": [
    "## Import the dataset"
   ]
  },
  {
   "cell_type": "markdown",
   "metadata": {
    "id": "ycFapGk6GTSi"
   },
   "source": [
    "Import the data"
   ]
  },
  {
   "cell_type": "code",
   "execution_count": 1,
   "metadata": {
    "colab": {
     "base_uri": "https://localhost:8080/",
     "height": 113,
     "resources": {
      "http://localhost:8080/nbextensions/google.colab/files.js": {
       "data": "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",
       "headers": [
        [
         "content-type",
         "application/javascript"
        ]
       ],
       "ok": true,
       "status": 200,
       "status_text": ""
      }
     }
    },
    "id": "XORz4ZCYiK9e",
    "outputId": "f59303fb-3ee9-4287-cc56-ad1d11a77fb6"
   },
   "outputs": [],
   "source": [
    "#upload CSV file\n",
    "from google.colab import files\n",
    "files.upload()"
   ]
  },
  {
   "cell_type": "markdown",
   "metadata": {
    "id": "A9xMzxgjFPKC"
   },
   "source": [
    "Import libraries and settings"
   ]
  },
  {
   "cell_type": "code",
   "execution_count": 2,
   "metadata": {
    "id": "hKt0pILMz_sn"
   },
   "outputs": [],
   "source": [
    "#import libraries\n",
    "import pandas as pd\n",
    "import numpy as np\n",
    "import seaborn as sns\n",
    "import sklearn     \n",
    "from sklearn.model_selection import train_test_split\n",
    "from sklearn import preprocessing\n",
    "from sklearn.metrics import (\n",
    "    f1_score,\n",
    "    accuracy_score,\n",
    "    recall_score,\n",
    "    precision_score,\n",
    "    confusion_matrix,\n",
    "    roc_auc_score,\n",
    "    plot_confusion_matrix,\n",
    "    precision_recall_curve,\n",
    "    roc_curve )\n",
    "import matplotlib.pyplot as plt\n",
    "import tensorflow as tf\n",
    "from tensorflow import keras\n",
    "from tensorflow.keras.utils import to_categorical\n",
    "from keras import losses\n",
    "from keras import Sequential\n",
    "from keras import backend\n",
    "from tensorflow.keras.optimizers import Adam\n",
    "from tensorflow.keras.layers import Dense\n",
    "from tensorflow.keras.layers import BatchNormalization\n",
    "from tensorflow.keras.layers import Dropout"
   ]
  },
  {
   "cell_type": "code",
   "execution_count": 3,
   "metadata": {
    "id": "IB8OJgzGCEN7"
   },
   "outputs": [],
   "source": [
    "import warnings\n",
    "warnings.filterwarnings('ignore')\n",
    "\n",
    "#format numeric data for easier readability\n",
    "pd.set_option(\n",
    "    \"display.float_format\", lambda x: \"%.2f\" % x\n",
    ")  # to display numbers rounded to 2 decimal places"
   ]
  },
  {
   "cell_type": "code",
   "execution_count": 4,
   "metadata": {
    "colab": {
     "base_uri": "https://localhost:8080/",
     "height": 206
    },
    "id": "LnGv4kkfijxW",
    "outputId": "80fa5087-5bb9-4a35-f724-9f147ee69115"
   },
   "outputs": [
    {
     "data": {
      "text/html": [
       "\n",
       "  <div id=\"df-9187428d-417d-4b23-b770-d3a0b3a2bb14\">\n",
       "    <div class=\"colab-df-container\">\n",
       "      <div>\n",
       "<style scoped>\n",
       "    .dataframe tbody tr th:only-of-type {\n",
       "        vertical-align: middle;\n",
       "    }\n",
       "\n",
       "    .dataframe tbody tr th {\n",
       "        vertical-align: top;\n",
       "    }\n",
       "\n",
       "    .dataframe thead th {\n",
       "        text-align: right;\n",
       "    }\n",
       "</style>\n",
       "<table border=\"1\" class=\"dataframe\">\n",
       "  <thead>\n",
       "    <tr style=\"text-align: right;\">\n",
       "      <th></th>\n",
       "      <th>RowNumber</th>\n",
       "      <th>CustomerId</th>\n",
       "      <th>Surname</th>\n",
       "      <th>CreditScore</th>\n",
       "      <th>Geography</th>\n",
       "      <th>Gender</th>\n",
       "      <th>Age</th>\n",
       "      <th>Tenure</th>\n",
       "      <th>Balance</th>\n",
       "      <th>NumOfProducts</th>\n",
       "      <th>HasCrCard</th>\n",
       "      <th>IsActiveMember</th>\n",
       "      <th>EstimatedSalary</th>\n",
       "      <th>Exited</th>\n",
       "    </tr>\n",
       "  </thead>\n",
       "  <tbody>\n",
       "    <tr>\n",
       "      <th>578</th>\n",
       "      <td>579</td>\n",
       "      <td>15734674</td>\n",
       "      <td>Lin</td>\n",
       "      <td>593</td>\n",
       "      <td>France</td>\n",
       "      <td>Female</td>\n",
       "      <td>41</td>\n",
       "      <td>6</td>\n",
       "      <td>0.00</td>\n",
       "      <td>1</td>\n",
       "      <td>1</td>\n",
       "      <td>0</td>\n",
       "      <td>65170.66</td>\n",
       "      <td>0</td>\n",
       "    </tr>\n",
       "    <tr>\n",
       "      <th>6552</th>\n",
       "      <td>6553</td>\n",
       "      <td>15636407</td>\n",
       "      <td>Beatham</td>\n",
       "      <td>793</td>\n",
       "      <td>Germany</td>\n",
       "      <td>Female</td>\n",
       "      <td>34</td>\n",
       "      <td>5</td>\n",
       "      <td>127758.09</td>\n",
       "      <td>1</td>\n",
       "      <td>1</td>\n",
       "      <td>0</td>\n",
       "      <td>143357.03</td>\n",
       "      <td>0</td>\n",
       "    </tr>\n",
       "    <tr>\n",
       "      <th>8718</th>\n",
       "      <td>8719</td>\n",
       "      <td>15627298</td>\n",
       "      <td>Vinogradova</td>\n",
       "      <td>589</td>\n",
       "      <td>France</td>\n",
       "      <td>Male</td>\n",
       "      <td>37</td>\n",
       "      <td>7</td>\n",
       "      <td>85146.48</td>\n",
       "      <td>2</td>\n",
       "      <td>1</td>\n",
       "      <td>0</td>\n",
       "      <td>86490.09</td>\n",
       "      <td>1</td>\n",
       "    </tr>\n",
       "    <tr>\n",
       "      <th>7073</th>\n",
       "      <td>7074</td>\n",
       "      <td>15585855</td>\n",
       "      <td>Gould</td>\n",
       "      <td>679</td>\n",
       "      <td>France</td>\n",
       "      <td>Male</td>\n",
       "      <td>40</td>\n",
       "      <td>1</td>\n",
       "      <td>0.00</td>\n",
       "      <td>1</td>\n",
       "      <td>1</td>\n",
       "      <td>1</td>\n",
       "      <td>16897.19</td>\n",
       "      <td>0</td>\n",
       "    </tr>\n",
       "    <tr>\n",
       "      <th>1308</th>\n",
       "      <td>1309</td>\n",
       "      <td>15662294</td>\n",
       "      <td>Bennett</td>\n",
       "      <td>710</td>\n",
       "      <td>France</td>\n",
       "      <td>Male</td>\n",
       "      <td>33</td>\n",
       "      <td>10</td>\n",
       "      <td>118327.17</td>\n",
       "      <td>2</td>\n",
       "      <td>1</td>\n",
       "      <td>1</td>\n",
       "      <td>192928.82</td>\n",
       "      <td>0</td>\n",
       "    </tr>\n",
       "  </tbody>\n",
       "</table>\n",
       "</div>\n",
       "      <button class=\"colab-df-convert\" onclick=\"convertToInteractive('df-9187428d-417d-4b23-b770-d3a0b3a2bb14')\"\n",
       "              title=\"Convert this dataframe to an interactive table.\"\n",
       "              style=\"display:none;\">\n",
       "        \n",
       "  <svg xmlns=\"http://www.w3.org/2000/svg\" height=\"24px\"viewBox=\"0 0 24 24\"\n",
       "       width=\"24px\">\n",
       "    <path d=\"M0 0h24v24H0V0z\" fill=\"none\"/>\n",
       "    <path d=\"M18.56 5.44l.94 2.06.94-2.06 2.06-.94-2.06-.94-.94-2.06-.94 2.06-2.06.94zm-11 1L8.5 8.5l.94-2.06 2.06-.94-2.06-.94L8.5 2.5l-.94 2.06-2.06.94zm10 10l.94 2.06.94-2.06 2.06-.94-2.06-.94-.94-2.06-.94 2.06-2.06.94z\"/><path d=\"M17.41 7.96l-1.37-1.37c-.4-.4-.92-.59-1.43-.59-.52 0-1.04.2-1.43.59L10.3 9.45l-7.72 7.72c-.78.78-.78 2.05 0 2.83L4 21.41c.39.39.9.59 1.41.59.51 0 1.02-.2 1.41-.59l7.78-7.78 2.81-2.81c.8-.78.8-2.07 0-2.86zM5.41 20L4 18.59l7.72-7.72 1.47 1.35L5.41 20z\"/>\n",
       "  </svg>\n",
       "      </button>\n",
       "      \n",
       "  <style>\n",
       "    .colab-df-container {\n",
       "      display:flex;\n",
       "      flex-wrap:wrap;\n",
       "      gap: 12px;\n",
       "    }\n",
       "\n",
       "    .colab-df-convert {\n",
       "      background-color: #E8F0FE;\n",
       "      border: none;\n",
       "      border-radius: 50%;\n",
       "      cursor: pointer;\n",
       "      display: none;\n",
       "      fill: #1967D2;\n",
       "      height: 32px;\n",
       "      padding: 0 0 0 0;\n",
       "      width: 32px;\n",
       "    }\n",
       "\n",
       "    .colab-df-convert:hover {\n",
       "      background-color: #E2EBFA;\n",
       "      box-shadow: 0px 1px 2px rgba(60, 64, 67, 0.3), 0px 1px 3px 1px rgba(60, 64, 67, 0.15);\n",
       "      fill: #174EA6;\n",
       "    }\n",
       "\n",
       "    [theme=dark] .colab-df-convert {\n",
       "      background-color: #3B4455;\n",
       "      fill: #D2E3FC;\n",
       "    }\n",
       "\n",
       "    [theme=dark] .colab-df-convert:hover {\n",
       "      background-color: #434B5C;\n",
       "      box-shadow: 0px 1px 3px 1px rgba(0, 0, 0, 0.15);\n",
       "      filter: drop-shadow(0px 1px 2px rgba(0, 0, 0, 0.3));\n",
       "      fill: #FFFFFF;\n",
       "    }\n",
       "  </style>\n",
       "\n",
       "      <script>\n",
       "        const buttonEl =\n",
       "          document.querySelector('#df-9187428d-417d-4b23-b770-d3a0b3a2bb14 button.colab-df-convert');\n",
       "        buttonEl.style.display =\n",
       "          google.colab.kernel.accessAllowed ? 'block' : 'none';\n",
       "\n",
       "        async function convertToInteractive(key) {\n",
       "          const element = document.querySelector('#df-9187428d-417d-4b23-b770-d3a0b3a2bb14');\n",
       "          const dataTable =\n",
       "            await google.colab.kernel.invokeFunction('convertToInteractive',\n",
       "                                                     [key], {});\n",
       "          if (!dataTable) return;\n",
       "\n",
       "          const docLinkHtml = 'Like what you see? Visit the ' +\n",
       "            '<a target=\"_blank\" href=https://colab.research.google.com/notebooks/data_table.ipynb>data table notebook</a>'\n",
       "            + ' to learn more about interactive tables.';\n",
       "          element.innerHTML = '';\n",
       "          dataTable['output_type'] = 'display_data';\n",
       "          await google.colab.output.renderOutput(dataTable, element);\n",
       "          const docLink = document.createElement('div');\n",
       "          docLink.innerHTML = docLinkHtml;\n",
       "          element.appendChild(docLink);\n",
       "        }\n",
       "      </script>\n",
       "    </div>\n",
       "  </div>\n",
       "  "
      ],
      "text/plain": [
       "      RowNumber  CustomerId      Surname  CreditScore Geography  Gender  Age  \\\n",
       "578         579    15734674          Lin          593    France  Female   41   \n",
       "6552       6553    15636407      Beatham          793   Germany  Female   34   \n",
       "8718       8719    15627298  Vinogradova          589    France    Male   37   \n",
       "7073       7074    15585855        Gould          679    France    Male   40   \n",
       "1308       1309    15662294      Bennett          710    France    Male   33   \n",
       "\n",
       "      Tenure   Balance  NumOfProducts  HasCrCard  IsActiveMember  \\\n",
       "578        6      0.00              1          1               0   \n",
       "6552       5 127758.09              1          1               0   \n",
       "8718       7  85146.48              2          1               0   \n",
       "7073       1      0.00              1          1               1   \n",
       "1308      10 118327.17              2          1               1   \n",
       "\n",
       "      EstimatedSalary  Exited  \n",
       "578          65170.66       0  \n",
       "6552        143357.03       0  \n",
       "8718         86490.09       1  \n",
       "7073         16897.19       0  \n",
       "1308        192928.82       0  "
      ]
     },
     "execution_count": 4,
     "metadata": {},
     "output_type": "execute_result"
    }
   ],
   "source": [
    "#import dataset\n",
    "data = pd.read_csv('Churn.csv')\n",
    "#copy dataset to a new variable\n",
    "df = data.copy()\n",
    "#sample five random rows from dataset\n",
    "df.sample(n=5)"
   ]
  },
  {
   "cell_type": "code",
   "execution_count": 5,
   "metadata": {
    "colab": {
     "base_uri": "https://localhost:8080/"
    },
    "id": "ry8J8nA4ocet",
    "outputId": "a01565e5-09fd-469e-b330-c9c11ae8b230"
   },
   "outputs": [
    {
     "name": "stdout",
     "output_type": "stream",
     "text": [
      "2.8.0\n"
     ]
    }
   ],
   "source": [
    "#verify the version of TensorFlow\n",
    "print(tf.__version__)"
   ]
  },
  {
   "cell_type": "markdown",
   "metadata": {
    "id": "E0ZMDNiuxnCL"
   },
   "source": [
    "## User-defined functions"
   ]
  },
  {
   "cell_type": "code",
   "execution_count": 6,
   "metadata": {
    "id": "3Ge_SGASY96N"
   },
   "outputs": [],
   "source": [
    "# function to plot a boxplot and a histogram along the same scale\n",
    "\n",
    "def histogram_boxplot(data, feature, figsize=(16, 6), kde=False, bins=None):\n",
    "    \"\"\"\n",
    "    Combines boxplot and histogram\n",
    "\n",
    "    data: dataframe\n",
    "    feature: dataframe column\n",
    "    figsize: size of figure (default (16,6))\n",
    "    kde: whether to show the density curve (default False)\n",
    "    bins: number of bins for histogram (default None)\n",
    "    \"\"\"\n",
    "    f2, (ax_box2, ax_hist2) = plt.subplots(\n",
    "        nrows=2,  # Number of rows of the subplot grid= 2\n",
    "        sharex=True,  # x-axis will be shared among all subplots\n",
    "        gridspec_kw={\"height_ratios\": (0.25, 0.75)},\n",
    "        figsize=figsize,\n",
    "    )  # creating the 2 subplots\n",
    "    sns.boxplot(\n",
    "        data=data, x=feature, ax=ax_box2, showmeans=True, color=\"aqua\"\n",
    "    )  # boxplot will be created and a star will indicate the mean value of the column\n",
    "    sns.histplot(\n",
    "        data=data, x=feature, kde=kde, ax=ax_hist2, bins=bins, palette=\"winter\"\n",
    "    ) if bins else sns.histplot(\n",
    "        data=data, x=feature, kde=kde, ax=ax_hist2\n",
    "    )  # For histogram\n",
    "    ax_hist2.axvline(\n",
    "        data[feature].mean(), color=\"green\", linestyle=\"--\"\n",
    "    )  # Add mean to the histogram\n",
    "    ax_hist2.axvline(\n",
    "        data[feature].median(), color=\"black\", linestyle=\"-\"\n",
    "    )  # Add median to the histogram"
   ]
  },
  {
   "cell_type": "code",
   "execution_count": 7,
   "metadata": {
    "id": "Sa13Uz73cxXO"
   },
   "outputs": [],
   "source": [
    "# function to create labeled barplots\n",
    "\n",
    "def labeled_barplot(data, feature, perc=False, n=None):\n",
    "    \"\"\"\n",
    "    Barplot with percentage at the top\n",
    "\n",
    "    data: dataframe\n",
    "    feature: dataframe column\n",
    "    perc: whether to display percentages instead of count (default is False)\n",
    "    n: displays the top n category levels (default is None, i.e., display all levels)\n",
    "    \"\"\"\n",
    "\n",
    "    total = len(data[feature])  # length of the column\n",
    "    count = data[feature].nunique()\n",
    "    if n is None:\n",
    "        plt.figure(figsize=(count + 1, 5))\n",
    "    else:\n",
    "        plt.figure(figsize=(n + 1, 5))\n",
    "        \n",
    "    ax = sns.countplot(\n",
    "        data=data,\n",
    "        x=feature,\n",
    "        palette='viridis',\n",
    "        order=data[feature].value_counts().index[:n].sort_values(),\n",
    "    )\n",
    "\n",
    "    for p in ax.patches:\n",
    "        if perc == True:\n",
    "            label = \"{:.1f}%\".format(\n",
    "                100 * p.get_height() / total\n",
    "            )  # percentage of each class of the category\n",
    "        else:\n",
    "            label = p.get_height()  # count of each level of the category\n",
    "\n",
    "        x = p.get_x() + p.get_width() / 2  # width of the plot\n",
    "        y = p.get_height()  # height of the plot\n",
    "\n",
    "        ax.annotate(\n",
    "            label,\n",
    "            (x, y),\n",
    "            ha=\"center\",\n",
    "            va=\"center\",\n",
    "            size=12,\n",
    "            xytext=(0, 5),\n",
    "            textcoords=\"offset points\"\n",
    "        )  # annotate the percentage\n",
    "\n",
    "    plt.show()  # show the plot"
   ]
  },
  {
   "cell_type": "markdown",
   "metadata": {
    "id": "1AbF7rq-N-ZD"
   },
   "source": [
    "## Overview of the dataset"
   ]
  },
  {
   "cell_type": "code",
   "execution_count": 8,
   "metadata": {
    "colab": {
     "base_uri": "https://localhost:8080/"
    },
    "id": "J90FZp8-Rxnb",
    "outputId": "21508af6-cc85-494f-a743-a5538a50a0b5"
   },
   "outputs": [
    {
     "data": {
      "text/plain": [
       "(10000, 14)"
      ]
     },
     "execution_count": 8,
     "metadata": {},
     "output_type": "execute_result"
    }
   ],
   "source": [
    "#observe the shape of the dataframe\n",
    "df.shape"
   ]
  },
  {
   "cell_type": "code",
   "execution_count": 9,
   "metadata": {
    "colab": {
     "base_uri": "https://localhost:8080/"
    },
    "id": "gtqyQNltMlHX",
    "outputId": "75fd0ae9-c83e-4e85-dbd8-eddfd1b77a8c"
   },
   "outputs": [
    {
     "name": "stdout",
     "output_type": "stream",
     "text": [
      "<class 'pandas.core.frame.DataFrame'>\n",
      "RangeIndex: 10000 entries, 0 to 9999\n",
      "Data columns (total 14 columns):\n",
      " #   Column           Non-Null Count  Dtype  \n",
      "---  ------           --------------  -----  \n",
      " 0   RowNumber        10000 non-null  int64  \n",
      " 1   CustomerId       10000 non-null  int64  \n",
      " 2   Surname          10000 non-null  object \n",
      " 3   CreditScore      10000 non-null  int64  \n",
      " 4   Geography        10000 non-null  object \n",
      " 5   Gender           10000 non-null  object \n",
      " 6   Age              10000 non-null  int64  \n",
      " 7   Tenure           10000 non-null  int64  \n",
      " 8   Balance          10000 non-null  float64\n",
      " 9   NumOfProducts    10000 non-null  int64  \n",
      " 10  HasCrCard        10000 non-null  int64  \n",
      " 11  IsActiveMember   10000 non-null  int64  \n",
      " 12  EstimatedSalary  10000 non-null  float64\n",
      " 13  Exited           10000 non-null  int64  \n",
      "dtypes: float64(2), int64(9), object(3)\n",
      "memory usage: 1.1+ MB\n"
     ]
    }
   ],
   "source": [
    "#observe the data types, non-null values, and column names of the dataframe\n",
    "df.info()"
   ]
  },
  {
   "cell_type": "code",
   "execution_count": 10,
   "metadata": {
    "id": "mjbzixE9ONdD"
   },
   "outputs": [],
   "source": [
    "#drop column RowNumber, CustomerId, and Surname from the dataset\n",
    "df.drop(['RowNumber','CustomerId', 'Surname'], axis=1, inplace=True)"
   ]
  },
  {
   "cell_type": "markdown",
   "metadata": {
    "id": "-3IfMkkvzE9u"
   },
   "source": [
    "- *RowNumber*, *Customer_ID*, and *Surname* values should not provide any material information and will not be included in training the network."
   ]
  },
  {
   "cell_type": "code",
   "execution_count": 11,
   "metadata": {
    "colab": {
     "base_uri": "https://localhost:8080/"
    },
    "id": "Aw_rnJ7RTA3b",
    "outputId": "a0424c5d-b365-423d-ca99-77bfcb4f529b"
   },
   "outputs": [
    {
     "data": {
      "text/plain": [
       "CreditScore        0\n",
       "Geography          0\n",
       "Gender             0\n",
       "Age                0\n",
       "Tenure             0\n",
       "Balance            0\n",
       "NumOfProducts      0\n",
       "HasCrCard          0\n",
       "IsActiveMember     0\n",
       "EstimatedSalary    0\n",
       "Exited             0\n",
       "dtype: int64"
      ]
     },
     "execution_count": 11,
     "metadata": {},
     "output_type": "execute_result"
    }
   ],
   "source": [
    "#check for duplicate values\n",
    "df[df.duplicated()].count()"
   ]
  },
  {
   "cell_type": "code",
   "execution_count": 12,
   "metadata": {
    "id": "jPecOUiGQsMH"
   },
   "outputs": [],
   "source": [
    "#convert all columns with dtype object into category\n",
    "for col in df.columns[df.dtypes=='object']:\n",
    "    df[col] = df[col].astype('category')"
   ]
  },
  {
   "cell_type": "code",
   "execution_count": 13,
   "metadata": {
    "id": "uebbsEAsGi_c"
   },
   "outputs": [],
   "source": [
    "#convert all columns with dtype int64 into int32\n",
    "for col in df.columns[df.dtypes=='int64']:\n",
    "    df[col] = df[col].astype('int32')"
   ]
  },
  {
   "cell_type": "code",
   "execution_count": 14,
   "metadata": {
    "id": "A_8WX5COGjkM"
   },
   "outputs": [],
   "source": [
    "#convert all columns with dtype float64 into float32\n",
    "for col in df.columns[df.dtypes=='float64']:\n",
    "    df[col] = df[col].astype('float32')"
   ]
  },
  {
   "cell_type": "code",
   "execution_count": 15,
   "metadata": {
    "id": "1pC4fDmya8W4"
   },
   "outputs": [],
   "source": [
    "int_cat = ['HasCrCard','IsActiveMember']\n",
    "#convert all columns in list to category\n",
    "for col in int_cat:\n",
    "    df[col] = df[col].astype('category')"
   ]
  },
  {
   "cell_type": "code",
   "execution_count": 16,
   "metadata": {
    "colab": {
     "base_uri": "https://localhost:8080/"
    },
    "id": "aifvcc1ZO0Gs",
    "outputId": "5e41bd24-435f-4b21-b794-3de78e78771e"
   },
   "outputs": [
    {
     "name": "stdout",
     "output_type": "stream",
     "text": [
      "<class 'pandas.core.frame.DataFrame'>\n",
      "RangeIndex: 10000 entries, 0 to 9999\n",
      "Data columns (total 11 columns):\n",
      " #   Column           Non-Null Count  Dtype   \n",
      "---  ------           --------------  -----   \n",
      " 0   CreditScore      10000 non-null  int32   \n",
      " 1   Geography        10000 non-null  category\n",
      " 2   Gender           10000 non-null  category\n",
      " 3   Age              10000 non-null  int32   \n",
      " 4   Tenure           10000 non-null  int32   \n",
      " 5   Balance          10000 non-null  float32 \n",
      " 6   NumOfProducts    10000 non-null  int32   \n",
      " 7   HasCrCard        10000 non-null  category\n",
      " 8   IsActiveMember   10000 non-null  category\n",
      " 9   EstimatedSalary  10000 non-null  float32 \n",
      " 10  Exited           10000 non-null  int32   \n",
      "dtypes: category(4), float32(2), int32(5)\n",
      "memory usage: 313.1 KB\n"
     ]
    }
   ],
   "source": [
    "#verify conversions\n",
    "df.info()"
   ]
  },
  {
   "cell_type": "markdown",
   "metadata": {
    "id": "fdWcJYFDT-dx"
   },
   "source": [
    "#### Observations\n",
    "- The dataframe has 10000 rows and 11 columns.\n",
    "- There are no duplicate values in the dataset.\n",
    "- There are no null values across all columns.\n",
    "- There are 4 columns of the dtype category, 2 columns of the dtype float64, and 5 columns of the dtype int64.\n",
    "- The target variable for the Neural Network will be *Exited*."
   ]
  },
  {
   "cell_type": "markdown",
   "metadata": {
    "id": "b1CNQabJX8XL"
   },
   "source": [
    "## Univariate analysis"
   ]
  },
  {
   "cell_type": "markdown",
   "metadata": {
    "id": "2Fh2gfNkZEbj"
   },
   "source": [
    "### Summary of float variables"
   ]
  },
  {
   "cell_type": "code",
   "execution_count": 17,
   "metadata": {
    "colab": {
     "base_uri": "https://localhost:8080/",
     "height": 758
    },
    "id": "2lCrAugIZDdJ",
    "outputId": "f8f6cc60-df58-4d39-9930-8b47a60ba6be"
   },
   "outputs": [
    {
     "data": {
      "image/png": "[encoded data removed]",
      "text/plain": [
       "<Figure size 1152x432 with 2 Axes>"
      ]
     },
     "metadata": {
      "needs_background": "light"
     },
     "output_type": "display_data"
    },
    {
     "data": {
      "image/png": "[encoded data removed]",
      "text/plain": [
       "<Figure size 1152x432 with 2 Axes>"
      ]
     },
     "metadata": {
      "needs_background": "light"
     },
     "output_type": "display_data"
    }
   ],
   "source": [
    "#plot all float32 variables\n",
    "for col in df.columns[df.dtypes == 'float32']:\n",
    "    histogram_boxplot(df, col)"
   ]
  },
  {
   "cell_type": "code",
   "execution_count": 18,
   "metadata": {
    "colab": {
     "base_uri": "https://localhost:8080/",
     "height": 112
    },
    "id": "mC4fU_ihYJZH",
    "outputId": "353e25d0-551d-4bb3-d7b0-36315a1b4d49"
   },
   "outputs": [
    {
     "data": {
      "text/html": [
       "\n",
       "  <div id=\"df-fa80a942-042c-4591-b4ce-801121cd4bdb\">\n",
       "    <div class=\"colab-df-container\">\n",
       "      <div>\n",
       "<style scoped>\n",
       "    .dataframe tbody tr th:only-of-type {\n",
       "        vertical-align: middle;\n",
       "    }\n",
       "\n",
       "    .dataframe tbody tr th {\n",
       "        vertical-align: top;\n",
       "    }\n",
       "\n",
       "    .dataframe thead th {\n",
       "        text-align: right;\n",
       "    }\n",
       "</style>\n",
       "<table border=\"1\" class=\"dataframe\">\n",
       "  <thead>\n",
       "    <tr style=\"text-align: right;\">\n",
       "      <th></th>\n",
       "      <th>count</th>\n",
       "      <th>mean</th>\n",
       "      <th>std</th>\n",
       "      <th>min</th>\n",
       "      <th>25%</th>\n",
       "      <th>50%</th>\n",
       "      <th>75%</th>\n",
       "      <th>max</th>\n",
       "    </tr>\n",
       "  </thead>\n",
       "  <tbody>\n",
       "    <tr>\n",
       "      <th>Balance</th>\n",
       "      <td>10000.00</td>\n",
       "      <td>76485.78</td>\n",
       "      <td>62398.95</td>\n",
       "      <td>0.00</td>\n",
       "      <td>0.00</td>\n",
       "      <td>97198.54</td>\n",
       "      <td>127644.24</td>\n",
       "      <td>250898.09</td>\n",
       "    </tr>\n",
       "    <tr>\n",
       "      <th>EstimatedSalary</th>\n",
       "      <td>10000.00</td>\n",
       "      <td>100090.12</td>\n",
       "      <td>57510.47</td>\n",
       "      <td>11.58</td>\n",
       "      <td>51002.11</td>\n",
       "      <td>100193.91</td>\n",
       "      <td>149388.25</td>\n",
       "      <td>199992.48</td>\n",
       "    </tr>\n",
       "  </tbody>\n",
       "</table>\n",
       "</div>\n",
       "      <button class=\"colab-df-convert\" onclick=\"convertToInteractive('df-fa80a942-042c-4591-b4ce-801121cd4bdb')\"\n",
       "              title=\"Convert this dataframe to an interactive table.\"\n",
       "              style=\"display:none;\">\n",
       "        \n",
       "  <svg xmlns=\"http://www.w3.org/2000/svg\" height=\"24px\"viewBox=\"0 0 24 24\"\n",
       "       width=\"24px\">\n",
       "    <path d=\"M0 0h24v24H0V0z\" fill=\"none\"/>\n",
       "    <path d=\"M18.56 5.44l.94 2.06.94-2.06 2.06-.94-2.06-.94-.94-2.06-.94 2.06-2.06.94zm-11 1L8.5 8.5l.94-2.06 2.06-.94-2.06-.94L8.5 2.5l-.94 2.06-2.06.94zm10 10l.94 2.06.94-2.06 2.06-.94-2.06-.94-.94-2.06-.94 2.06-2.06.94z\"/><path d=\"M17.41 7.96l-1.37-1.37c-.4-.4-.92-.59-1.43-.59-.52 0-1.04.2-1.43.59L10.3 9.45l-7.72 7.72c-.78.78-.78 2.05 0 2.83L4 21.41c.39.39.9.59 1.41.59.51 0 1.02-.2 1.41-.59l7.78-7.78 2.81-2.81c.8-.78.8-2.07 0-2.86zM5.41 20L4 18.59l7.72-7.72 1.47 1.35L5.41 20z\"/>\n",
       "  </svg>\n",
       "      </button>\n",
       "      \n",
       "  <style>\n",
       "    .colab-df-container {\n",
       "      display:flex;\n",
       "      flex-wrap:wrap;\n",
       "      gap: 12px;\n",
       "    }\n",
       "\n",
       "    .colab-df-convert {\n",
       "      background-color: #E8F0FE;\n",
       "      border: none;\n",
       "      border-radius: 50%;\n",
       "      cursor: pointer;\n",
       "      display: none;\n",
       "      fill: #1967D2;\n",
       "      height: 32px;\n",
       "      padding: 0 0 0 0;\n",
       "      width: 32px;\n",
       "    }\n",
       "\n",
       "    .colab-df-convert:hover {\n",
       "      background-color: #E2EBFA;\n",
       "      box-shadow: 0px 1px 2px rgba(60, 64, 67, 0.3), 0px 1px 3px 1px rgba(60, 64, 67, 0.15);\n",
       "      fill: #174EA6;\n",
       "    }\n",
       "\n",
       "    [theme=dark] .colab-df-convert {\n",
       "      background-color: #3B4455;\n",
       "      fill: #D2E3FC;\n",
       "    }\n",
       "\n",
       "    [theme=dark] .colab-df-convert:hover {\n",
       "      background-color: #434B5C;\n",
       "      box-shadow: 0px 1px 3px 1px rgba(0, 0, 0, 0.15);\n",
       "      filter: drop-shadow(0px 1px 2px rgba(0, 0, 0, 0.3));\n",
       "      fill: #FFFFFF;\n",
       "    }\n",
       "  </style>\n",
       "\n",
       "      <script>\n",
       "        const buttonEl =\n",
       "          document.querySelector('#df-fa80a942-042c-4591-b4ce-801121cd4bdb button.colab-df-convert');\n",
       "        buttonEl.style.display =\n",
       "          google.colab.kernel.accessAllowed ? 'block' : 'none';\n",
       "\n",
       "        async function convertToInteractive(key) {\n",
       "          const element = document.querySelector('#df-fa80a942-042c-4591-b4ce-801121cd4bdb');\n",
       "          const dataTable =\n",
       "            await google.colab.kernel.invokeFunction('convertToInteractive',\n",
       "                                                     [key], {});\n",
       "          if (!dataTable) return;\n",
       "\n",
       "          const docLinkHtml = 'Like what you see? Visit the ' +\n",
       "            '<a target=\"_blank\" href=https://colab.research.google.com/notebooks/data_table.ipynb>data table notebook</a>'\n",
       "            + ' to learn more about interactive tables.';\n",
       "          element.innerHTML = '';\n",
       "          dataTable['output_type'] = 'display_data';\n",
       "          await google.colab.output.renderOutput(dataTable, element);\n",
       "          const docLink = document.createElement('div');\n",
       "          docLink.innerHTML = docLinkHtml;\n",
       "          element.appendChild(docLink);\n",
       "        }\n",
       "      </script>\n",
       "    </div>\n",
       "  </div>\n",
       "  "
      ],
      "text/plain": [
       "                   count      mean      std   min      25%       50%  \\\n",
       "Balance         10000.00  76485.78 62398.95  0.00     0.00  97198.54   \n",
       "EstimatedSalary 10000.00 100090.12 57510.47 11.58 51002.11 100193.91   \n",
       "\n",
       "                      75%       max  \n",
       "Balance         127644.24 250898.09  \n",
       "EstimatedSalary 149388.25 199992.48  "
      ]
     },
     "execution_count": 18,
     "metadata": {},
     "output_type": "execute_result"
    }
   ],
   "source": [
    "#provide summary statistics of all float32 variables\n",
    "df.describe(include = ['float32']).T"
   ]
  },
  {
   "cell_type": "code",
   "execution_count": 19,
   "metadata": {
    "colab": {
     "base_uri": "https://localhost:8080/"
    },
    "id": "CW1zb8NYx4MM",
    "outputId": "6ea1bf60-d89f-438d-c605-0dca60dc2889"
   },
   "outputs": [
    {
     "name": "stdout",
     "output_type": "stream",
     "text": [
      "3617\n",
      "3202\n",
      "3181\n"
     ]
    }
   ],
   "source": [
    "#identify three categories of approximately equal size\n",
    "print(df[df.Balance==0].shape[0])\n",
    "print(df[df.Balance<120000].shape[0]-df[df.Balance==0].shape[0])\n",
    "print(df[df.Balance>120000].shape[0])"
   ]
  },
  {
   "cell_type": "code",
   "execution_count": 20,
   "metadata": {
    "id": "SFPdxG2x3Nt3"
   },
   "outputs": [],
   "source": [
    "#identify a median balance\n",
    "median_balance = 120000\n",
    "\n",
    "#create bins\n",
    "bins = [-1,1,median_balance,np.inf]\n",
    "\n",
    "#create labels for each bin\n",
    "category = ['<$1','$1-'+str(median_balance)[0:3]+'K','$'+str(median_balance)[0:3]+'K']\n",
    "\n",
    "#cut all observations into one of three bins\n",
    "df['Balance'] = pd.cut(df['Balance'], bins, labels=category)"
   ]
  },
  {
   "cell_type": "code",
   "execution_count": 21,
   "metadata": {
    "colab": {
     "base_uri": "https://localhost:8080/"
    },
    "id": "y_iq6OQi4RGS",
    "outputId": "c3fe00ee-8f5e-4416-8926-639f1735327c"
   },
   "outputs": [
    {
     "data": {
      "text/plain": [
       "<$1        3617\n",
       "$1-120K    3202\n",
       "$120K      3181\n",
       "Name: Balance, dtype: int64"
      ]
     },
     "execution_count": 21,
     "metadata": {},
     "output_type": "execute_result"
    }
   ],
   "source": [
    "#confirm transformation\n",
    "df.Balance.value_counts()"
   ]
  },
  {
   "cell_type": "markdown",
   "metadata": {
    "id": "M6cj6d9sdYPG"
   },
   "source": [
    "#### Observations\n",
    "- The distribution for *Balance* appears highly left skewed, with 3617 people having a balance of $0 and the remaining cohort having a normal distribution of balances centered at approximately 120,000 dollars.\n",
    "  - The information provided by this variable would be better served within the model by a categorical variable.\n",
    "  - Based on my interpretation, this new variable should have values for a zero balance, a value for a balance below median, and a value for above median of this normal distribution.\n",
    "- The distribution for \"EstimatedSalary\" appears relatively uniform between the minimum and maximum values of 12 dollars and 200,000 dollars, respectively."
   ]
  },
  {
   "cell_type": "markdown",
   "metadata": {
    "id": "EVsMCtsjZvQx"
   },
   "source": [
    "### Summary of integer variables"
   ]
  },
  {
   "cell_type": "code",
   "execution_count": 22,
   "metadata": {
    "colab": {
     "base_uri": "https://localhost:8080/",
     "height": 1000
    },
    "id": "9ajjBmDSZ1-N",
    "outputId": "5afc2329-cdd5-4529-8a21-a03f215840d6"
   },
   "outputs": [
    {
     "data": {
      "image/png": "[encoded data removed]",
      "text/plain": [
       "<Figure size 1152x432 with 2 Axes>"
      ]
     },
     "metadata": {
      "needs_background": "light"
     },
     "output_type": "display_data"
    },
    {
     "data": {
      "image/png": "[encoded data removed]",
      "text/plain": [
       "<Figure size 1152x432 with 2 Axes>"
      ]
     },
     "metadata": {
      "needs_background": "light"
     },
     "output_type": "display_data"
    },
    {
     "data": {
      "image/png": "[encoded data removed]",
      "text/plain": [
       "<Figure size 1152x432 with 2 Axes>"
      ]
     },
     "metadata": {
      "needs_background": "light"
     },
     "output_type": "display_data"
    },
    {
     "data": {
      "image/png": "[encoded data removed]",
      "text/plain": [
       "<Figure size 1152x432 with 2 Axes>"
      ]
     },
     "metadata": {
      "needs_background": "light"
     },
     "output_type": "display_data"
    },
    {
     "data": {
      "image/png": "[encoded data removed]",
      "text/plain": [
       "<Figure size 1152x432 with 2 Axes>"
      ]
     },
     "metadata": {
      "needs_background": "light"
     },
     "output_type": "display_data"
    }
   ],
   "source": [
    "#plot all int32 variables\n",
    "for col in df.columns[df.dtypes == 'int32']:\n",
    "    histogram_boxplot(df, col)"
   ]
  },
  {
   "cell_type": "code",
   "execution_count": 23,
   "metadata": {
    "colab": {
     "base_uri": "https://localhost:8080/",
     "height": 206
    },
    "id": "Xn6lGWlxZ1-L",
    "outputId": "3daea69a-979f-4795-ef94-b1db5e7a0cab"
   },
   "outputs": [
    {
     "data": {
      "text/html": [
       "\n",
       "  <div id=\"df-62803052-f2a4-43a7-9031-e0e570aaf8f9\">\n",
       "    <div class=\"colab-df-container\">\n",
       "      <div>\n",
       "<style scoped>\n",
       "    .dataframe tbody tr th:only-of-type {\n",
       "        vertical-align: middle;\n",
       "    }\n",
       "\n",
       "    .dataframe tbody tr th {\n",
       "        vertical-align: top;\n",
       "    }\n",
       "\n",
       "    .dataframe thead th {\n",
       "        text-align: right;\n",
       "    }\n",
       "</style>\n",
       "<table border=\"1\" class=\"dataframe\">\n",
       "  <thead>\n",
       "    <tr style=\"text-align: right;\">\n",
       "      <th></th>\n",
       "      <th>count</th>\n",
       "      <th>mean</th>\n",
       "      <th>std</th>\n",
       "      <th>min</th>\n",
       "      <th>25%</th>\n",
       "      <th>50%</th>\n",
       "      <th>75%</th>\n",
       "      <th>max</th>\n",
       "    </tr>\n",
       "  </thead>\n",
       "  <tbody>\n",
       "    <tr>\n",
       "      <th>CreditScore</th>\n",
       "      <td>10000.00</td>\n",
       "      <td>650.53</td>\n",
       "      <td>96.65</td>\n",
       "      <td>350.00</td>\n",
       "      <td>584.00</td>\n",
       "      <td>652.00</td>\n",
       "      <td>718.00</td>\n",
       "      <td>850.00</td>\n",
       "    </tr>\n",
       "    <tr>\n",
       "      <th>Age</th>\n",
       "      <td>10000.00</td>\n",
       "      <td>38.92</td>\n",
       "      <td>10.49</td>\n",
       "      <td>18.00</td>\n",
       "      <td>32.00</td>\n",
       "      <td>37.00</td>\n",
       "      <td>44.00</td>\n",
       "      <td>92.00</td>\n",
       "    </tr>\n",
       "    <tr>\n",
       "      <th>Tenure</th>\n",
       "      <td>10000.00</td>\n",
       "      <td>5.01</td>\n",
       "      <td>2.89</td>\n",
       "      <td>0.00</td>\n",
       "      <td>3.00</td>\n",
       "      <td>5.00</td>\n",
       "      <td>7.00</td>\n",
       "      <td>10.00</td>\n",
       "    </tr>\n",
       "    <tr>\n",
       "      <th>NumOfProducts</th>\n",
       "      <td>10000.00</td>\n",
       "      <td>1.53</td>\n",
       "      <td>0.58</td>\n",
       "      <td>1.00</td>\n",
       "      <td>1.00</td>\n",
       "      <td>1.00</td>\n",
       "      <td>2.00</td>\n",
       "      <td>4.00</td>\n",
       "    </tr>\n",
       "    <tr>\n",
       "      <th>Exited</th>\n",
       "      <td>10000.00</td>\n",
       "      <td>0.20</td>\n",
       "      <td>0.40</td>\n",
       "      <td>0.00</td>\n",
       "      <td>0.00</td>\n",
       "      <td>0.00</td>\n",
       "      <td>0.00</td>\n",
       "      <td>1.00</td>\n",
       "    </tr>\n",
       "  </tbody>\n",
       "</table>\n",
       "</div>\n",
       "      <button class=\"colab-df-convert\" onclick=\"convertToInteractive('df-62803052-f2a4-43a7-9031-e0e570aaf8f9')\"\n",
       "              title=\"Convert this dataframe to an interactive table.\"\n",
       "              style=\"display:none;\">\n",
       "        \n",
       "  <svg xmlns=\"http://www.w3.org/2000/svg\" height=\"24px\"viewBox=\"0 0 24 24\"\n",
       "       width=\"24px\">\n",
       "    <path d=\"M0 0h24v24H0V0z\" fill=\"none\"/>\n",
       "    <path d=\"M18.56 5.44l.94 2.06.94-2.06 2.06-.94-2.06-.94-.94-2.06-.94 2.06-2.06.94zm-11 1L8.5 8.5l.94-2.06 2.06-.94-2.06-.94L8.5 2.5l-.94 2.06-2.06.94zm10 10l.94 2.06.94-2.06 2.06-.94-2.06-.94-.94-2.06-.94 2.06-2.06.94z\"/><path d=\"M17.41 7.96l-1.37-1.37c-.4-.4-.92-.59-1.43-.59-.52 0-1.04.2-1.43.59L10.3 9.45l-7.72 7.72c-.78.78-.78 2.05 0 2.83L4 21.41c.39.39.9.59 1.41.59.51 0 1.02-.2 1.41-.59l7.78-7.78 2.81-2.81c.8-.78.8-2.07 0-2.86zM5.41 20L4 18.59l7.72-7.72 1.47 1.35L5.41 20z\"/>\n",
       "  </svg>\n",
       "      </button>\n",
       "      \n",
       "  <style>\n",
       "    .colab-df-container {\n",
       "      display:flex;\n",
       "      flex-wrap:wrap;\n",
       "      gap: 12px;\n",
       "    }\n",
       "\n",
       "    .colab-df-convert {\n",
       "      background-color: #E8F0FE;\n",
       "      border: none;\n",
       "      border-radius: 50%;\n",
       "      cursor: pointer;\n",
       "      display: none;\n",
       "      fill: #1967D2;\n",
       "      height: 32px;\n",
       "      padding: 0 0 0 0;\n",
       "      width: 32px;\n",
       "    }\n",
       "\n",
       "    .colab-df-convert:hover {\n",
       "      background-color: #E2EBFA;\n",
       "      box-shadow: 0px 1px 2px rgba(60, 64, 67, 0.3), 0px 1px 3px 1px rgba(60, 64, 67, 0.15);\n",
       "      fill: #174EA6;\n",
       "    }\n",
       "\n",
       "    [theme=dark] .colab-df-convert {\n",
       "      background-color: #3B4455;\n",
       "      fill: #D2E3FC;\n",
       "    }\n",
       "\n",
       "    [theme=dark] .colab-df-convert:hover {\n",
       "      background-color: #434B5C;\n",
       "      box-shadow: 0px 1px 3px 1px rgba(0, 0, 0, 0.15);\n",
       "      filter: drop-shadow(0px 1px 2px rgba(0, 0, 0, 0.3));\n",
       "      fill: #FFFFFF;\n",
       "    }\n",
       "  </style>\n",
       "\n",
       "      <script>\n",
       "        const buttonEl =\n",
       "          document.querySelector('#df-62803052-f2a4-43a7-9031-e0e570aaf8f9 button.colab-df-convert');\n",
       "        buttonEl.style.display =\n",
       "          google.colab.kernel.accessAllowed ? 'block' : 'none';\n",
       "\n",
       "        async function convertToInteractive(key) {\n",
       "          const element = document.querySelector('#df-62803052-f2a4-43a7-9031-e0e570aaf8f9');\n",
       "          const dataTable =\n",
       "            await google.colab.kernel.invokeFunction('convertToInteractive',\n",
       "                                                     [key], {});\n",
       "          if (!dataTable) return;\n",
       "\n",
       "          const docLinkHtml = 'Like what you see? Visit the ' +\n",
       "            '<a target=\"_blank\" href=https://colab.research.google.com/notebooks/data_table.ipynb>data table notebook</a>'\n",
       "            + ' to learn more about interactive tables.';\n",
       "          element.innerHTML = '';\n",
       "          dataTable['output_type'] = 'display_data';\n",
       "          await google.colab.output.renderOutput(dataTable, element);\n",
       "          const docLink = document.createElement('div');\n",
       "          docLink.innerHTML = docLinkHtml;\n",
       "          element.appendChild(docLink);\n",
       "        }\n",
       "      </script>\n",
       "    </div>\n",
       "  </div>\n",
       "  "
      ],
      "text/plain": [
       "                 count   mean   std    min    25%    50%    75%    max\n",
       "CreditScore   10000.00 650.53 96.65 350.00 584.00 652.00 718.00 850.00\n",
       "Age           10000.00  38.92 10.49  18.00  32.00  37.00  44.00  92.00\n",
       "Tenure        10000.00   5.01  2.89   0.00   3.00   5.00   7.00  10.00\n",
       "NumOfProducts 10000.00   1.53  0.58   1.00   1.00   1.00   2.00   4.00\n",
       "Exited        10000.00   0.20  0.40   0.00   0.00   0.00   0.00   1.00"
      ]
     },
     "execution_count": 23,
     "metadata": {},
     "output_type": "execute_result"
    }
   ],
   "source": [
    "#provide summary statistics of all int32 variables\n",
    "df.describe(include = ['int32']).T"
   ]
  },
  {
   "cell_type": "code",
   "execution_count": 24,
   "metadata": {
    "colab": {
     "base_uri": "https://localhost:8080/"
    },
    "id": "fmWBLHBOAneI",
    "outputId": "eae5f6a5-3e38-4eca-9324-8ef3fb547a0a"
   },
   "outputs": [
    {
     "name": "stdout",
     "output_type": "stream",
     "text": [
      "850    233\n",
      "678     63\n",
      "655     54\n",
      "705     53\n",
      "667     53\n",
      "      ... \n",
      "404      1\n",
      "351      1\n",
      "365      1\n",
      "417      1\n",
      "419      1\n",
      "Name: CreditScore, Length: 460, dtype: int64\n",
      " \n",
      "37    478\n",
      "38    477\n",
      "35    474\n",
      "36    456\n",
      "34    447\n",
      "     ... \n",
      "92      2\n",
      "82      1\n",
      "88      1\n",
      "85      1\n",
      "83      1\n",
      "Name: Age, Length: 70, dtype: int64\n",
      " \n",
      "2     1048\n",
      "1     1035\n",
      "7     1028\n",
      "8     1025\n",
      "5     1012\n",
      "3     1009\n",
      "4      989\n",
      "9      984\n",
      "6      967\n",
      "10     490\n",
      "0      413\n",
      "Name: Tenure, dtype: int64\n",
      " \n",
      "1    5084\n",
      "2    4590\n",
      "3     266\n",
      "4      60\n",
      "Name: NumOfProducts, dtype: int64\n",
      " \n",
      "0    7963\n",
      "1    2037\n",
      "Name: Exited, dtype: int64\n",
      " \n"
     ]
    }
   ],
   "source": [
    "#provide counts for all distinct values within each int32 variable\n",
    "for col in df.columns[df.dtypes == 'int32']:\n",
    "    print(df[col].value_counts())\n",
    "    print(\" \")"
   ]
  },
  {
   "cell_type": "markdown",
   "metadata": {
    "id": "zAGrxieqdURk"
   },
   "source": [
    "#### Observations\n",
    "- The distribution of *CreditScore* appears relatively normal, with a center with a mean credit score of 650 and an upper limit at 850.\n",
    "- The distribution for *Age* appears right skewed, with a lower limit of 18, a mean age of 39, and a maximum age of 92.\n",
    "- The distribution for *Tenure* appears uniform with, ~1000 people each between 1 and 9 years and half as many in the cohorts for 1 and 10 years with the bank.\n",
    "- Only 326 of 10,000 people sampled have 3 or more products with the bank.\n",
    "\n",
    "**Dependent variable**\n",
    "- From the sample of 10,000 people, ~20% of customers subsequently left the bank.\n",
    "- Further analysis on this variable is included below as part of the bivariate analysis."
   ]
  },
  {
   "cell_type": "markdown",
   "metadata": {
    "id": "jbsBq1J6ctu-"
   },
   "source": [
    "### Summary of categorical variables"
   ]
  },
  {
   "cell_type": "code",
   "execution_count": 25,
   "metadata": {
    "colab": {
     "base_uri": "https://localhost:8080/",
     "height": 1000
    },
    "id": "tv95qrRIdFJC",
    "outputId": "7b12c026-18f3-40ee-d14d-603615bab63e"
   },
   "outputs": [
    {
     "data": {
      "image/png": "[encoded data removed]",
      "text/plain": [
       "<Figure size 288x360 with 1 Axes>"
      ]
     },
     "metadata": {
      "needs_background": "light"
     },
     "output_type": "display_data"
    },
    {
     "data": {
      "image/png": "[encoded data removed]",
      "text/plain": [
       "<Figure size 216x360 with 1 Axes>"
      ]
     },
     "metadata": {
      "needs_background": "light"
     },
     "output_type": "display_data"
    },
    {
     "data": {
      "image/png": "[encoded data removed]",
      "text/plain": [
       "<Figure size 288x360 with 1 Axes>"
      ]
     },
     "metadata": {
      "needs_background": "light"
     },
     "output_type": "display_data"
    },
    {
     "data": {
      "image/png": "[encoded data removed]",
      "text/plain": [
       "<Figure size 216x360 with 1 Axes>"
      ]
     },
     "metadata": {
      "needs_background": "light"
     },
     "output_type": "display_data"
    },
    {
     "data": {
      "image/png": "[encoded data removed]",
      "text/plain": [
       "<Figure size 216x360 with 1 Axes>"
      ]
     },
     "metadata": {
      "needs_background": "light"
     },
     "output_type": "display_data"
    }
   ],
   "source": [
    "#provide boxplots of categorical variables\n",
    "for col in df.columns[df.dtypes == 'category']:\n",
    "    labeled_barplot(df, col, perc=True)"
   ]
  },
  {
   "cell_type": "code",
   "execution_count": 26,
   "metadata": {
    "colab": {
     "base_uri": "https://localhost:8080/",
     "height": 206
    },
    "id": "yNsneIZDc2LK",
    "outputId": "03114d17-8192-40b0-9320-addbf7080d6a"
   },
   "outputs": [
    {
     "data": {
      "text/html": [
       "\n",
       "  <div id=\"df-9b6f92cd-24b6-46b0-81a2-a1dd89bb5140\">\n",
       "    <div class=\"colab-df-container\">\n",
       "      <div>\n",
       "<style scoped>\n",
       "    .dataframe tbody tr th:only-of-type {\n",
       "        vertical-align: middle;\n",
       "    }\n",
       "\n",
       "    .dataframe tbody tr th {\n",
       "        vertical-align: top;\n",
       "    }\n",
       "\n",
       "    .dataframe thead th {\n",
       "        text-align: right;\n",
       "    }\n",
       "</style>\n",
       "<table border=\"1\" class=\"dataframe\">\n",
       "  <thead>\n",
       "    <tr style=\"text-align: right;\">\n",
       "      <th></th>\n",
       "      <th>count</th>\n",
       "      <th>unique</th>\n",
       "      <th>top</th>\n",
       "      <th>freq</th>\n",
       "    </tr>\n",
       "  </thead>\n",
       "  <tbody>\n",
       "    <tr>\n",
       "      <th>Geography</th>\n",
       "      <td>10000</td>\n",
       "      <td>3</td>\n",
       "      <td>France</td>\n",
       "      <td>5014</td>\n",
       "    </tr>\n",
       "    <tr>\n",
       "      <th>Gender</th>\n",
       "      <td>10000</td>\n",
       "      <td>2</td>\n",
       "      <td>Male</td>\n",
       "      <td>5457</td>\n",
       "    </tr>\n",
       "    <tr>\n",
       "      <th>Balance</th>\n",
       "      <td>10000</td>\n",
       "      <td>3</td>\n",
       "      <td>&lt;$1</td>\n",
       "      <td>3617</td>\n",
       "    </tr>\n",
       "    <tr>\n",
       "      <th>HasCrCard</th>\n",
       "      <td>10000</td>\n",
       "      <td>2</td>\n",
       "      <td>1</td>\n",
       "      <td>7055</td>\n",
       "    </tr>\n",
       "    <tr>\n",
       "      <th>IsActiveMember</th>\n",
       "      <td>10000</td>\n",
       "      <td>2</td>\n",
       "      <td>1</td>\n",
       "      <td>5151</td>\n",
       "    </tr>\n",
       "  </tbody>\n",
       "</table>\n",
       "</div>\n",
       "      <button class=\"colab-df-convert\" onclick=\"convertToInteractive('df-9b6f92cd-24b6-46b0-81a2-a1dd89bb5140')\"\n",
       "              title=\"Convert this dataframe to an interactive table.\"\n",
       "              style=\"display:none;\">\n",
       "        \n",
       "  <svg xmlns=\"http://www.w3.org/2000/svg\" height=\"24px\"viewBox=\"0 0 24 24\"\n",
       "       width=\"24px\">\n",
       "    <path d=\"M0 0h24v24H0V0z\" fill=\"none\"/>\n",
       "    <path d=\"M18.56 5.44l.94 2.06.94-2.06 2.06-.94-2.06-.94-.94-2.06-.94 2.06-2.06.94zm-11 1L8.5 8.5l.94-2.06 2.06-.94-2.06-.94L8.5 2.5l-.94 2.06-2.06.94zm10 10l.94 2.06.94-2.06 2.06-.94-2.06-.94-.94-2.06-.94 2.06-2.06.94z\"/><path d=\"M17.41 7.96l-1.37-1.37c-.4-.4-.92-.59-1.43-.59-.52 0-1.04.2-1.43.59L10.3 9.45l-7.72 7.72c-.78.78-.78 2.05 0 2.83L4 21.41c.39.39.9.59 1.41.59.51 0 1.02-.2 1.41-.59l7.78-7.78 2.81-2.81c.8-.78.8-2.07 0-2.86zM5.41 20L4 18.59l7.72-7.72 1.47 1.35L5.41 20z\"/>\n",
       "  </svg>\n",
       "      </button>\n",
       "      \n",
       "  <style>\n",
       "    .colab-df-container {\n",
       "      display:flex;\n",
       "      flex-wrap:wrap;\n",
       "      gap: 12px;\n",
       "    }\n",
       "\n",
       "    .colab-df-convert {\n",
       "      background-color: #E8F0FE;\n",
       "      border: none;\n",
       "      border-radius: 50%;\n",
       "      cursor: pointer;\n",
       "      display: none;\n",
       "      fill: #1967D2;\n",
       "      height: 32px;\n",
       "      padding: 0 0 0 0;\n",
       "      width: 32px;\n",
       "    }\n",
       "\n",
       "    .colab-df-convert:hover {\n",
       "      background-color: #E2EBFA;\n",
       "      box-shadow: 0px 1px 2px rgba(60, 64, 67, 0.3), 0px 1px 3px 1px rgba(60, 64, 67, 0.15);\n",
       "      fill: #174EA6;\n",
       "    }\n",
       "\n",
       "    [theme=dark] .colab-df-convert {\n",
       "      background-color: #3B4455;\n",
       "      fill: #D2E3FC;\n",
       "    }\n",
       "\n",
       "    [theme=dark] .colab-df-convert:hover {\n",
       "      background-color: #434B5C;\n",
       "      box-shadow: 0px 1px 3px 1px rgba(0, 0, 0, 0.15);\n",
       "      filter: drop-shadow(0px 1px 2px rgba(0, 0, 0, 0.3));\n",
       "      fill: #FFFFFF;\n",
       "    }\n",
       "  </style>\n",
       "\n",
       "      <script>\n",
       "        const buttonEl =\n",
       "          document.querySelector('#df-9b6f92cd-24b6-46b0-81a2-a1dd89bb5140 button.colab-df-convert');\n",
       "        buttonEl.style.display =\n",
       "          google.colab.kernel.accessAllowed ? 'block' : 'none';\n",
       "\n",
       "        async function convertToInteractive(key) {\n",
       "          const element = document.querySelector('#df-9b6f92cd-24b6-46b0-81a2-a1dd89bb5140');\n",
       "          const dataTable =\n",
       "            await google.colab.kernel.invokeFunction('convertToInteractive',\n",
       "                                                     [key], {});\n",
       "          if (!dataTable) return;\n",
       "\n",
       "          const docLinkHtml = 'Like what you see? Visit the ' +\n",
       "            '<a target=\"_blank\" href=https://colab.research.google.com/notebooks/data_table.ipynb>data table notebook</a>'\n",
       "            + ' to learn more about interactive tables.';\n",
       "          element.innerHTML = '';\n",
       "          dataTable['output_type'] = 'display_data';\n",
       "          await google.colab.output.renderOutput(dataTable, element);\n",
       "          const docLink = document.createElement('div');\n",
       "          docLink.innerHTML = docLinkHtml;\n",
       "          element.appendChild(docLink);\n",
       "        }\n",
       "      </script>\n",
       "    </div>\n",
       "  </div>\n",
       "  "
      ],
      "text/plain": [
       "                count unique     top  freq\n",
       "Geography       10000      3  France  5014\n",
       "Gender          10000      2    Male  5457\n",
       "Balance         10000      3     <$1  3617\n",
       "HasCrCard       10000      2       1  7055\n",
       "IsActiveMember  10000      2       1  5151"
      ]
     },
     "execution_count": 26,
     "metadata": {},
     "output_type": "execute_result"
    }
   ],
   "source": [
    "#provide descriptive statistics for categorical variables\n",
    "df.describe(include = ['category']).T"
   ]
  },
  {
   "cell_type": "code",
   "execution_count": 27,
   "metadata": {
    "colab": {
     "base_uri": "https://localhost:8080/"
    },
    "id": "8zWkhPOAdBn6",
    "outputId": "a7e3842c-937f-4888-d034-02b325fc6d3a"
   },
   "outputs": [
    {
     "name": "stdout",
     "output_type": "stream",
     "text": [
      "France     5014\n",
      "Germany    2509\n",
      "Spain      2477\n",
      "Name: Geography, dtype: int64\n",
      " \n",
      "Male      5457\n",
      "Female    4543\n",
      "Name: Gender, dtype: int64\n",
      " \n",
      "<$1        3617\n",
      "$1-120K    3202\n",
      "$120K      3181\n",
      "Name: Balance, dtype: int64\n",
      " \n",
      "1    7055\n",
      "0    2945\n",
      "Name: HasCrCard, dtype: int64\n",
      " \n",
      "1    5151\n",
      "0    4849\n",
      "Name: IsActiveMember, dtype: int64\n",
      " \n"
     ]
    }
   ],
   "source": [
    "#provide counts for each unique variable in each categorical variable\n",
    "for colname in df.dtypes[df.dtypes == 'category'].index:\n",
    "    print(df[colname].value_counts(dropna=False))\n",
    "    print(\" \")"
   ]
  },
  {
   "cell_type": "markdown",
   "metadata": {
    "id": "wsxOJ9cGdPpq"
   },
   "source": [
    "#### Observations\n",
    "- Of the sample population of 10,000 bank account owners:\n",
    "  - %55 are male\n",
    "  - ~70% have a credit card\n",
    "  - ~52% are active members (i.e., use the bank regularly)\n",
    "  - 50% live in France, 25% live in Germany, and 25% live in Spain; so, the population is biased towards French people.\n"
   ]
  },
  {
   "cell_type": "markdown",
   "metadata": {
    "id": "7upAvpE7doW-"
   },
   "source": [
    "## Bivariate analysis"
   ]
  },
  {
   "cell_type": "code",
   "execution_count": 28,
   "metadata": {
    "colab": {
     "base_uri": "https://localhost:8080/",
     "height": 432
    },
    "id": "uIE2C_AHdlt_",
    "outputId": "a44dda63-731f-4864-9252-adfb3ca3aef8"
   },
   "outputs": [
    {
     "data": {
      "image/png": "[encoded data removed]",
      "text/plain": [
       "<Figure size 1008x504 with 2 Axes>"
      ]
     },
     "metadata": {
      "needs_background": "light"
     },
     "output_type": "display_data"
    }
   ],
   "source": [
    "#create correlation heat map for numerical variables\n",
    "numeric_columns = df.select_dtypes(include=np.number).columns.tolist()\n",
    "\n",
    "#correlation heatmap\n",
    "plt.figure(figsize=(14, 7))\n",
    "sns.heatmap(\n",
    "    df[numeric_columns].corr(),\n",
    "    annot=True,\n",
    "    vmin=-1,\n",
    "    vmax=1,\n",
    "    fmt=\".2f\",\n",
    "    cmap='viridis'\n",
    ")\n",
    "plt.show()"
   ]
  },
  {
   "cell_type": "code",
   "execution_count": 29,
   "metadata": {
    "colab": {
     "base_uri": "https://localhost:8080/"
    },
    "id": "cfxKLjKWFvkP",
    "outputId": "3871e9fb-221f-40b1-f3af-a8b911f439b3"
   },
   "outputs": [
    {
     "name": "stdout",
     "output_type": "stream",
     "text": [
      "Geography  Exited\n",
      "France     0        83.85\n",
      "           1        16.15\n",
      "Germany    0        67.56\n",
      "           1        32.44\n",
      "Spain      0        83.33\n",
      "           1        16.67\n",
      "Name: Exited, dtype: float64\n",
      " \n",
      "Gender  Exited\n",
      "Female  0        74.93\n",
      "        1        25.07\n",
      "Male    0        83.54\n",
      "        1        16.46\n",
      "Name: Exited, dtype: float64\n",
      " \n",
      "Balance  Exited\n",
      "<$1      0        86.18\n",
      "         1        13.82\n",
      "$1-120K  0        75.89\n",
      "         1        24.11\n",
      "$120K    0        75.95\n",
      "         1        24.05\n",
      "Name: Exited, dtype: float64\n",
      " \n",
      "HasCrCard  Exited\n",
      "0          0        79.19\n",
      "           1        20.81\n",
      "1          0        79.82\n",
      "           1        20.18\n",
      "Name: Exited, dtype: float64\n",
      " \n",
      "IsActiveMember  Exited\n",
      "0               0        73.15\n",
      "                1        26.85\n",
      "1               0        85.73\n",
      "                1        14.27\n",
      "Name: Exited, dtype: float64\n",
      " \n"
     ]
    }
   ],
   "source": [
    "#provide ratios of the dependent variable for all categorical variables\n",
    "for col in df.columns[df.dtypes == 'category']:\n",
    "    print(df.groupby(col)[\"Exited\"].value_counts(normalize=True).mul(100))\n",
    "    print(\" \")"
   ]
  },
  {
   "cell_type": "code",
   "execution_count": 30,
   "metadata": {
    "colab": {
     "base_uri": "https://localhost:8080/"
    },
    "id": "WmV5Qg1NKYcp",
    "outputId": "282d7f3c-45f2-4acd-b95d-b2e6e1bd5030"
   },
   "outputs": [
    {
     "data": {
      "text/plain": [
       "Tenure  Exited\n",
       "0       0        77.00\n",
       "        1        23.00\n",
       "1       0        77.58\n",
       "        1        22.42\n",
       "2       0        80.82\n",
       "        1        19.18\n",
       "3       0        78.89\n",
       "        1        21.11\n",
       "4       0        79.47\n",
       "        1        20.53\n",
       "5       0        79.35\n",
       "        1        20.65\n",
       "6       0        79.73\n",
       "        1        20.27\n",
       "7       0        82.78\n",
       "        1        17.22\n",
       "8       0        80.78\n",
       "        1        19.22\n",
       "9       0        78.35\n",
       "        1        21.65\n",
       "10      0        79.39\n",
       "        1        20.61\n",
       "Name: Exited, dtype: float64"
      ]
     },
     "execution_count": 30,
     "metadata": {},
     "output_type": "execute_result"
    }
   ],
   "source": [
    "#provide ratios of the dependent variable for all distinct values of Tenure\n",
    "df.groupby('Tenure')[\"Exited\"].value_counts(normalize=True).mul(100)"
   ]
  },
  {
   "cell_type": "markdown",
   "metadata": {
    "id": "Y6O4oH0-d4Z4"
   },
   "source": [
    "#### Observations\n",
    "- The only variables which appear correlated are *Age* and *Exited*.\n",
    "  - The low positive correlation signifies that, as a person ages, they are slightly more likely to leave the bank.\n",
    "- A higher ratio of females in the population exited the bank than males.\n",
    "- A higher ratio of people with a balance less than $1k in the population exited the bank than those with a balance greater than that amount.\n",
    "- A lower ratio of people who were categorized as \"Active Members\" exited the bank than those who were not.\n",
    "- Those with less than one year of tenure with the bank have the highest ratio of exits and those with only one year of tenure have the second highest ratio of exits."
   ]
  },
  {
   "cell_type": "markdown",
   "metadata": {
    "id": "TJl7BYubYB_T"
   },
   "source": [
    "## Preprocessing"
   ]
  },
  {
   "cell_type": "code",
   "execution_count": 31,
   "metadata": {
    "id": "nc4l02acWR0a"
   },
   "outputs": [],
   "source": [
    "#create dummy variables for the categorical features\n",
    "df_train = pd.get_dummies(df,drop_first=True)"
   ]
  },
  {
   "cell_type": "code",
   "execution_count": 32,
   "metadata": {
    "colab": {
     "base_uri": "https://localhost:8080/"
    },
    "id": "USodcIc-IKuS",
    "outputId": "928b2fdf-14b9-4e68-bbbd-07e80c19736f"
   },
   "outputs": [
    {
     "name": "stdout",
     "output_type": "stream",
     "text": [
      "<class 'pandas.core.frame.DataFrame'>\n",
      "RangeIndex: 10000 entries, 0 to 9999\n",
      "Data columns (total 13 columns):\n",
      " #   Column             Non-Null Count  Dtype  \n",
      "---  ------             --------------  -----  \n",
      " 0   CreditScore        10000 non-null  int32  \n",
      " 1   Age                10000 non-null  int32  \n",
      " 2   Tenure             10000 non-null  int32  \n",
      " 3   NumOfProducts      10000 non-null  int32  \n",
      " 4   EstimatedSalary    10000 non-null  float32\n",
      " 5   Exited             10000 non-null  int32  \n",
      " 6   Geography_Germany  10000 non-null  uint8  \n",
      " 7   Geography_Spain    10000 non-null  uint8  \n",
      " 8   Gender_Male        10000 non-null  uint8  \n",
      " 9   Balance_$1-120K    10000 non-null  uint8  \n",
      " 10  Balance_$120K      10000 non-null  uint8  \n",
      " 11  HasCrCard_1        10000 non-null  uint8  \n",
      " 12  IsActiveMember_1   10000 non-null  uint8  \n",
      "dtypes: float32(1), int32(5), uint8(7)\n",
      "memory usage: 302.9 KB\n"
     ]
    }
   ],
   "source": [
    "#review training data\n",
    "df_train.info()"
   ]
  },
  {
   "cell_type": "code",
   "execution_count": 33,
   "metadata": {
    "id": "-NV7_VuZdAHr"
   },
   "outputs": [],
   "source": [
    "#seperate features from labels\n",
    "X = df_train.drop('Exited',axis=1)   # Predictor feature columns\n",
    "Y = df_train['Exited']   # Predicted class (1=Exited, 0=Not Exited)"
   ]
  },
  {
   "cell_type": "code",
   "execution_count": 34,
   "metadata": {
    "id": "xhihQaPY6LfN"
   },
   "outputs": [],
   "source": [
    "#split the data into training and test sets\n",
    "X_train, X_test, y_train, y_test = train_test_split(X, Y, test_size=0.20, random_state=1)"
   ]
  },
  {
   "cell_type": "markdown",
   "metadata": {
    "id": "8-PHB5E46w-0"
   },
   "source": [
    "- NOTE: Do not scale the dependent variable in a classification problem"
   ]
  },
  {
   "cell_type": "code",
   "execution_count": 35,
   "metadata": {
    "id": "kohyyWDkf75J"
   },
   "outputs": [],
   "source": [
    "#define scaler\n",
    "scaler = preprocessing.StandardScaler()\n",
    "#fit the scaler on the independent variables for both train and test\n",
    "X_train = scaler.fit_transform(X_train)\n",
    "X_test = scaler.transform(X_test)"
   ]
  },
  {
   "cell_type": "code",
   "execution_count": 36,
   "metadata": {
    "id": "ium-ktErgOLt"
   },
   "outputs": [],
   "source": [
    "#convert the data elements into tensors, as we need tensors for different tensorflow based operations\n",
    "x_train1=tf.convert_to_tensor(X_train)\n",
    "y_train1=tf.convert_to_tensor(y_train)\n",
    "x_test1=tf.convert_to_tensor(X_test)\n",
    "y_test1=tf.convert_to_tensor(y_test)"
   ]
  },
  {
   "cell_type": "code",
   "execution_count": 37,
   "metadata": {
    "colab": {
     "base_uri": "https://localhost:8080/"
    },
    "id": "GOUVOqYeg2mj",
    "outputId": "b286df82-bd8c-49eb-d312-b8a11f04322a"
   },
   "outputs": [
    {
     "name": "stdout",
     "output_type": "stream",
     "text": [
      "(8000, 12)\n",
      "(8000,)\n",
      "(2000, 12)\n",
      "(2000,)\n"
     ]
    }
   ],
   "source": [
    "#print the shape of training tensors\n",
    "print(x_train1.shape)\n",
    "print(y_train1.shape)\n",
    "\n",
    "#print the shape of training tensors\n",
    "print(x_test1.shape)\n",
    "print(y_test1.shape)"
   ]
  },
  {
   "cell_type": "markdown",
   "metadata": {
    "id": "Z03WqvqcN-eq"
   },
   "source": [
    "## Metric selection\n",
    "AUC should be the target metric for the following reasons:\n",
    "  - AUC provides an aggregate measure of performance across all possible classification thresholds.\n",
    "  - AUC is scale-invariant (i.e., measures how well predictions are ranked, rather than their absolute values).\n",
    "  - AUC is classification-threshold-invariant (i.e., measures the quality of the model’s predictions irrespective of what classification threshold is chosen)."
   ]
  },
  {
   "cell_type": "code",
   "execution_count": 38,
   "metadata": {
    "id": "eczyX-SVO6ww"
   },
   "outputs": [],
   "source": [
    "#set the metric for training the ANNs\n",
    "metric = tf.keras.metrics.AUC()"
   ]
  },
  {
   "cell_type": "markdown",
   "metadata": {
    "id": "qliScvpJ_3gU"
   },
   "source": [
    "## Models 1 & 2: Baseline models"
   ]
  },
  {
   "cell_type": "markdown",
   "metadata": {
    "id": "ki8eXV1oFrS6"
   },
   "source": [
    "### Building"
   ]
  },
  {
   "cell_type": "code",
   "execution_count": 39,
   "metadata": {
    "id": "d9ee78e9"
   },
   "outputs": [],
   "source": [
    "backend.clear_session()\n",
    "#set the seed for random number generators\n",
    "np.random.seed(42)\n",
    "import random\n",
    "random.seed(42)\n",
    "tf.random.set_seed(42)"
   ]
  },
  {
   "cell_type": "code",
   "execution_count": 40,
   "metadata": {
    "id": "lAW8tWDIWEDp"
   },
   "outputs": [],
   "source": [
    "#set the layers within the neural network\n",
    "model_1 = Sequential()\n",
    "model_1.add(Dense(9, activation='relu',input_shape=(x_train1.shape[1],))) #input layer\n",
    "model_1.add(Dense(6, activation='relu')) #hidden layer\n",
    "model_1.add(Dense(1, activation='sigmoid')) #output layer"
   ]
  },
  {
   "cell_type": "code",
   "execution_count": 41,
   "metadata": {
    "id": "Tw6oZMXRZKwg"
   },
   "outputs": [],
   "source": [
    "#set the optimizer, loss function, and metric\n",
    "adam = Adam(learning_rate=1e-3)\n",
    "model_1.compile(loss='binary_crossentropy', optimizer=adam, metrics=metric)"
   ]
  },
  {
   "cell_type": "code",
   "execution_count": 42,
   "metadata": {
    "colab": {
     "base_uri": "https://localhost:8080/"
    },
    "id": "mQ372NV2RKai",
    "outputId": "d4fcd8ae-cd4d-4848-eeac-b9f62bc3bdf0"
   },
   "outputs": [
    {
     "name": "stdout",
     "output_type": "stream",
     "text": [
      "Model: \"sequential\"\n",
      "_________________________________________________________________\n",
      " Layer (type)                Output Shape              Param #   \n",
      "=================================================================\n",
      " dense (Dense)               (None, 9)                 117       \n",
      "                                                                 \n",
      " dense_1 (Dense)             (None, 6)                 60        \n",
      "                                                                 \n",
      " dense_2 (Dense)             (None, 1)                 7         \n",
      "                                                                 \n",
      "=================================================================\n",
      "Total params: 184\n",
      "Trainable params: 184\n",
      "Non-trainable params: 0\n",
      "_________________________________________________________________\n"
     ]
    }
   ],
   "source": [
    "#show a summary of the ANN\n",
    "model_1.summary()"
   ]
  },
  {
   "cell_type": "markdown",
   "metadata": {
    "id": "l3Y9dNV0SzDM"
   },
   "source": [
    "### Training"
   ]
  },
  {
   "cell_type": "code",
   "execution_count": 43,
   "metadata": {
    "id": "8FIMSUF3aDpu"
   },
   "outputs": [],
   "source": [
    "#train model across select number of epochs\n",
    "epochs=30\n",
    "history = model_1.fit(x_train1, y_train1, validation_split=0.2, epochs=epochs, verbose=0)"
   ]
  },
  {
   "cell_type": "code",
   "execution_count": 44,
   "metadata": {
    "colab": {
     "base_uri": "https://localhost:8080/",
     "height": 350
    },
    "id": "rC2n_0_wmcJH",
    "outputId": "14b7b184-6b41-43a2-d2cc-2d5d41e269f9"
   },
   "outputs": [
    {
     "data": {
      "image/png": "[encoded data removed]",
      "text/plain": [
       "<Figure size 504x360 with 1 Axes>"
      ]
     },
     "metadata": {
      "needs_background": "light"
     },
     "output_type": "display_data"
    }
   ],
   "source": [
    "#plot progression of losses across training epochs\n",
    "N = epochs\n",
    "plt.figure(figsize=(7,5))\n",
    "plt.plot(np.arange(0, N), history.history[\"loss\"], label=\"training\")\n",
    "plt.plot(np.arange(0, N), history.history[\"val_loss\"], label=\"validation\")\n",
    "\n",
    "plt.title(\"Training and validation losses across epochs\")\n",
    "plt.xlabel(\"Epoch\")\n",
    "plt.ylabel(\"Losses\")\n",
    "plt.legend(loc=\"best\")\n",
    "plt.show()"
   ]
  },
  {
   "cell_type": "code",
   "execution_count": 45,
   "metadata": {
    "colab": {
     "base_uri": "https://localhost:8080/",
     "height": 294
    },
    "id": "JHGaN3dfnMLt",
    "outputId": "de95e30a-7238-44fe-e88e-7ecbae966c7a"
   },
   "outputs": [
    {
     "data": {
      "image/png": "[encoded data removed]",
      "text/plain": [
       "<Figure size 432x288 with 1 Axes>"
      ]
     },
     "metadata": {
      "needs_background": "light"
     },
     "output_type": "display_data"
    }
   ],
   "source": [
    "#plot progression of accuracy across training epochs\n",
    "loss, accuracy  = model_1.evaluate(x_train1, y_train1, verbose=False)\n",
    "    \n",
    "plt.plot(history.history['auc'])\n",
    "plt.plot(history.history['val_auc'])\n",
    "plt.title('Model AUC across epochs')\n",
    "plt.ylabel('AUC')\n",
    "plt.xlabel('Epoch')\n",
    "plt.legend(['training', 'validation'], loc='best')\n",
    "plt.show()"
   ]
  },
  {
   "cell_type": "markdown",
   "metadata": {
    "id": "Yh6ZElYvsuMD"
   },
   "source": [
    "- The ANN trained appears not to overfit the training data and to have reached a steady state of performance prior to the final epoch."
   ]
  },
  {
   "cell_type": "markdown",
   "metadata": {
    "id": "hbywzKpm-cze"
   },
   "source": [
    "### Testing"
   ]
  },
  {
   "cell_type": "code",
   "execution_count": 46,
   "metadata": {
    "colab": {
     "base_uri": "https://localhost:8080/",
     "height": 350
    },
    "id": "g2w-1om3oONH",
    "outputId": "f211d201-c803-441a-ba9d-bb966dcbc7dc"
   },
   "outputs": [
    {
     "data": {
      "image/png": "[encoded data removed]",
      "text/plain": [
       "<Figure size 504x360 with 1 Axes>"
      ]
     },
     "metadata": {
      "needs_background": "light"
     },
     "output_type": "display_data"
    }
   ],
   "source": [
    "#plot ROC curve on testing data\n",
    "roc_auc_test_1 = roc_auc_score(y_test1, model_1.predict(x_test1))\n",
    "fpr, tpr, thresholds = roc_curve(y_test1, model_1.predict(x_test1))\n",
    "plt.figure(figsize=(7, 5))\n",
    "plt.plot(fpr, tpr, label=\"Model_1 (area = %0.2f)\" % roc_auc_test_1)\n",
    "plt.plot([0, 1], [0, 1], \"r--\")\n",
    "plt.xlim([0.0, 1.0])\n",
    "plt.ylim([0.0, 1.01])\n",
    "plt.xlabel(\"False Positive Rate\")\n",
    "plt.ylabel(\"True Positive Rate\")\n",
    "plt.title(\"Receiver operating characteristic\")\n",
    "plt.legend(loc=\"lower right\")\n",
    "plt.show()"
   ]
  },
  {
   "cell_type": "code",
   "execution_count": 47,
   "metadata": {
    "colab": {
     "base_uri": "https://localhost:8080/"
    },
    "id": "TWSLymJetItB",
    "outputId": "1eb71160-eb88-4e02-f79f-5f37d1e0cb3d"
   },
   "outputs": [
    {
     "name": "stdout",
     "output_type": "stream",
     "text": [
      "              precision    recall  f1-score   support\n",
      "\n",
      "           0       0.88      0.96      0.92      1585\n",
      "           1       0.75      0.50      0.60       415\n",
      "\n",
      "    accuracy                           0.86      2000\n",
      "   macro avg       0.81      0.73      0.76      2000\n",
      "weighted avg       0.85      0.86      0.85      2000\n",
      "\n"
     ]
    }
   ],
   "source": [
    "#set baseline threshold\n",
    "threshold = 0.5\n",
    "#predict the labels of training data\n",
    "y_pred_test1=np.round(model_1.predict(x_test1)>threshold,0).astype(int)\n",
    "\n",
    "#generate classification report\n",
    "from sklearn.metrics import classification_report\n",
    "print(classification_report(y_test1,y_pred_test1))"
   ]
  },
  {
   "cell_type": "code",
   "execution_count": 48,
   "metadata": {
    "colab": {
     "base_uri": "https://localhost:8080/",
     "height": 334
    },
    "id": "AtZyN3Usx6jw",
    "outputId": "4bc025d5-5138-483b-9ed2-9f859f8f8fbc"
   },
   "outputs": [
    {
     "data": {
      "image/png": "[encoded data removed]",
      "text/plain": [
       "<Figure size 504x360 with 2 Axes>"
      ]
     },
     "metadata": {
      "needs_background": "light"
     },
     "output_type": "display_data"
    }
   ],
   "source": [
    "#create confusion matrix\n",
    "cm=confusion_matrix(y_test1,y_pred_test1)\n",
    "\n",
    "plt.figure(figsize=(7,5))\n",
    "sns.heatmap(cm,annot=True,fmt='d',cmap='viridis')\n",
    "plt.xlabel('Predicted')\n",
    "plt.ylabel('Truth')\n",
    "plt.show()"
   ]
  },
  {
   "cell_type": "markdown",
   "metadata": {
    "id": "ztzIEhN5AWvw"
   },
   "source": [
    "### Optimal threshold"
   ]
  },
  {
   "cell_type": "code",
   "execution_count": 49,
   "metadata": {
    "colab": {
     "base_uri": "https://localhost:8080/"
    },
    "id": "2nMho3a2qK-F",
    "outputId": "2a3424c0-513e-4edb-b06a-87826a195413"
   },
   "outputs": [
    {
     "name": "stdout",
     "output_type": "stream",
     "text": [
      "0.18896937\n"
     ]
    }
   ],
   "source": [
    "#optimal threshold as per AUC-ROC curve\n",
    "fpr, tpr, thresholds = roc_curve(y_test1, model_1.predict(x_test1))\n",
    "\n",
    "optimal_idx = np.argmax(tpr - fpr)\n",
    "optimal_threshold_auc_roc = thresholds[optimal_idx]\n",
    "print(optimal_threshold_auc_roc)"
   ]
  },
  {
   "cell_type": "code",
   "execution_count": 50,
   "metadata": {
    "colab": {
     "base_uri": "https://localhost:8080/"
    },
    "id": "78fe9gkN2EaS",
    "outputId": "7869e731-9774-464f-f7c9-992298d1ef30"
   },
   "outputs": [
    {
     "name": "stdout",
     "output_type": "stream",
     "text": [
      "              precision    recall  f1-score   support\n",
      "\n",
      "           0       0.93      0.77      0.84      1585\n",
      "           1       0.47      0.79      0.59       415\n",
      "\n",
      "    accuracy                           0.78      2000\n",
      "   macro avg       0.70      0.78      0.72      2000\n",
      "weighted avg       0.84      0.78      0.79      2000\n",
      "\n"
     ]
    }
   ],
   "source": [
    "#set optimal threshold\n",
    "threshold = optimal_threshold_auc_roc\n",
    "#predict the labels of training data\n",
    "y_pred_test2=np.round(model_1.predict(x_test1)>threshold,0).astype(int)\n",
    "\n",
    "#generate classification report\n",
    "print(classification_report(y_test1,y_pred_test2))"
   ]
  },
  {
   "cell_type": "code",
   "execution_count": 51,
   "metadata": {
    "colab": {
     "base_uri": "https://localhost:8080/",
     "height": 334
    },
    "id": "JeXdQreX4TzU",
    "outputId": "169bdd87-927b-4ae6-8143-552f0fc7a7c6"
   },
   "outputs": [
    {
     "data": {
      "image/png": "[encoded data removed]",
      "text/plain": [
       "<Figure size 504x360 with 2 Axes>"
      ]
     },
     "metadata": {
      "needs_background": "light"
     },
     "output_type": "display_data"
    }
   ],
   "source": [
    "#create confusion matrix\n",
    "cm=confusion_matrix(y_test1,y_pred_test2)\n",
    "\n",
    "plt.figure(figsize=(7,5))\n",
    "sns.heatmap(cm,annot=True,fmt='d',cmap='viridis')\n",
    "plt.xlabel('Predicted')\n",
    "plt.ylabel('Truth')\n",
    "plt.show()"
   ]
  },
  {
   "cell_type": "markdown",
   "metadata": {
    "id": "GDFw1XJCFkjR"
   },
   "source": [
    "## Models 3 & 4: Additional layers"
   ]
  },
  {
   "cell_type": "markdown",
   "metadata": {
    "id": "E7oxJGWhFkjo"
   },
   "source": [
    "### Building"
   ]
  },
  {
   "cell_type": "code",
   "execution_count": 52,
   "metadata": {
    "id": "cXIP6INbmr_A"
   },
   "outputs": [],
   "source": [
    "backend.clear_session()\n",
    "#Setting the seed for random number generators\n",
    "np.random.seed(42)\n",
    "import random\n",
    "random.seed(42)\n",
    "tf.random.set_seed(42)"
   ]
  },
  {
   "cell_type": "code",
   "execution_count": 53,
   "metadata": {
    "id": "giM8fS5HFkjp"
   },
   "outputs": [],
   "source": [
    "#select layers within the neural network\n",
    "model_2 = Sequential()\n",
    "model_2.add(Dense(12, activation='relu',input_shape=(x_train1.shape[1],))) #input layer\n",
    "model_2.add(Dense(9, activation='relu')) #hidden layer\n",
    "model_2.add(Dense(6, activation='relu')) #hidden layer\n",
    "model_2.add(Dense(3, activation='relu')) #hidden layer\n",
    "model_2.add(Dense(1, activation='sigmoid')) #output layer"
   ]
  },
  {
   "cell_type": "code",
   "execution_count": 54,
   "metadata": {
    "id": "iX2Ahq1oFkjp"
   },
   "outputs": [],
   "source": [
    "#select optimizer, loss function, and target metric\n",
    "adam = Adam(learning_rate=1e-3)\n",
    "model_2.compile(loss='binary_crossentropy', optimizer=adam, metrics=metric)"
   ]
  },
  {
   "cell_type": "code",
   "execution_count": 55,
   "metadata": {
    "colab": {
     "base_uri": "https://localhost:8080/"
    },
    "id": "auf6JNl8Fkjq",
    "outputId": "00a262a1-3e79-403d-afc8-4a10ae59e09d"
   },
   "outputs": [
    {
     "name": "stdout",
     "output_type": "stream",
     "text": [
      "Model: \"sequential\"\n",
      "_________________________________________________________________\n",
      " Layer (type)                Output Shape              Param #   \n",
      "=================================================================\n",
      " dense (Dense)               (None, 12)                156       \n",
      "                                                                 \n",
      " dense_1 (Dense)             (None, 9)                 117       \n",
      "                                                                 \n",
      " dense_2 (Dense)             (None, 6)                 60        \n",
      "                                                                 \n",
      " dense_3 (Dense)             (None, 3)                 21        \n",
      "                                                                 \n",
      " dense_4 (Dense)             (None, 1)                 4         \n",
      "                                                                 \n",
      "=================================================================\n",
      "Total params: 358\n",
      "Trainable params: 358\n",
      "Non-trainable params: 0\n",
      "_________________________________________________________________\n"
     ]
    }
   ],
   "source": [
    "#provide summary of model\n",
    "model_2.summary()"
   ]
  },
  {
   "cell_type": "markdown",
   "metadata": {
    "id": "8a-iLRGgFkjr"
   },
   "source": [
    "### Training"
   ]
  },
  {
   "cell_type": "code",
   "execution_count": 56,
   "metadata": {
    "id": "AcPlJGg3Fkjr"
   },
   "outputs": [],
   "source": [
    "#train model across select number of epochs\n",
    "epochs=30\n",
    "history = model_2.fit(x_train1, y_train1, validation_split=0.2, epochs=epochs, verbose=0)"
   ]
  },
  {
   "cell_type": "code",
   "execution_count": 57,
   "metadata": {
    "colab": {
     "base_uri": "https://localhost:8080/",
     "height": 350
    },
    "id": "J1YUDIE2Fkjs",
    "outputId": "8b8102b8-1b7e-4586-a9d6-3e3822712978"
   },
   "outputs": [
    {
     "data": {
      "image/png": "[encoded data removed]",
      "text/plain": [
       "<Figure size 504x360 with 1 Axes>"
      ]
     },
     "metadata": {
      "needs_background": "light"
     },
     "output_type": "display_data"
    }
   ],
   "source": [
    "#plot progression of losses across training epochs\n",
    "N = epochs\n",
    "plt.figure(figsize=(7,5))\n",
    "plt.plot(np.arange(0, N), history.history[\"loss\"], label=\"training\")\n",
    "plt.plot(np.arange(0, N), history.history[\"val_loss\"], label=\"validation\")\n",
    "\n",
    "plt.title(\"Training and validation losses across epochs\")\n",
    "plt.xlabel(\"Epoch\")\n",
    "plt.ylabel(\"Losses\")\n",
    "plt.legend(loc=\"best\")\n",
    "plt.show()"
   ]
  },
  {
   "cell_type": "code",
   "execution_count": 58,
   "metadata": {
    "colab": {
     "base_uri": "https://localhost:8080/",
     "height": 294
    },
    "id": "0zVoR6DFFkjs",
    "outputId": "4ddcb8eb-decc-45f1-e2ba-20d8648b2b8d"
   },
   "outputs": [
    {
     "data": {
      "image/png": "[encoded data removed]",
      "text/plain": [
       "<Figure size 432x288 with 1 Axes>"
      ]
     },
     "metadata": {
      "needs_background": "light"
     },
     "output_type": "display_data"
    }
   ],
   "source": [
    "#plot progression of accuracy across training epochs\n",
    "loss, accuracy  = model_2.evaluate(x_train1, y_train1, verbose=False)\n",
    "    \n",
    "plt.plot(history.history['auc'])\n",
    "plt.plot(history.history['val_auc'])\n",
    "plt.title('Model AUC across epochs')\n",
    "plt.ylabel('AUC')\n",
    "plt.xlabel('Epoch')\n",
    "plt.legend(['training', 'validation'], loc='best')\n",
    "plt.show()"
   ]
  },
  {
   "cell_type": "markdown",
   "metadata": {
    "id": "XNu_0dY-tGwi"
   },
   "source": [
    "- The ANN trained appears to minimally overfit the training data and to have reached a steady state of performance prior to the final epoch."
   ]
  },
  {
   "cell_type": "markdown",
   "metadata": {
    "id": "_n_tdkuwFkjt"
   },
   "source": [
    "### Testing"
   ]
  },
  {
   "cell_type": "code",
   "execution_count": 59,
   "metadata": {
    "colab": {
     "base_uri": "https://localhost:8080/",
     "height": 350
    },
    "id": "4OXBcPsyFkjt",
    "outputId": "8be39568-ed57-4ee0-c023-39277c0f9f67"
   },
   "outputs": [
    {
     "data": {
      "image/png": "[encoded data removed]",
      "text/plain": [
       "<Figure size 504x360 with 1 Axes>"
      ]
     },
     "metadata": {
      "needs_background": "light"
     },
     "output_type": "display_data"
    }
   ],
   "source": [
    "#plot ROC curve on testing data\n",
    "roc_auc_test_2 = roc_auc_score(y_test1, model_2.predict(x_test1))\n",
    "fpr, tpr, thresholds = roc_curve(y_test1, model_2.predict(x_test1))\n",
    "plt.figure(figsize=(7, 5))\n",
    "plt.plot(fpr, tpr, label=\"Model_1 (area = %0.2f)\" % roc_auc_test_2)\n",
    "plt.plot([0, 1], [0, 1], \"r--\")\n",
    "plt.xlim([0.0, 1.0])\n",
    "plt.ylim([0.0, 1.01])\n",
    "plt.xlabel(\"False Positive Rate\")\n",
    "plt.ylabel(\"True Positive Rate\")\n",
    "plt.title(\"Receiver operating characteristic\")\n",
    "plt.legend(loc=\"lower right\")\n",
    "plt.show()"
   ]
  },
  {
   "cell_type": "code",
   "execution_count": 60,
   "metadata": {
    "colab": {
     "base_uri": "https://localhost:8080/"
    },
    "id": "DV0utr5DFkju",
    "outputId": "29d391a5-f84b-4775-ae53-2fc025ffdc7c"
   },
   "outputs": [
    {
     "name": "stdout",
     "output_type": "stream",
     "text": [
      "              precision    recall  f1-score   support\n",
      "\n",
      "           0       0.88      0.96      0.92      1585\n",
      "           1       0.76      0.48      0.59       415\n",
      "\n",
      "    accuracy                           0.86      2000\n",
      "   macro avg       0.82      0.72      0.75      2000\n",
      "weighted avg       0.85      0.86      0.85      2000\n",
      "\n"
     ]
    }
   ],
   "source": [
    "#set baseline threshold\n",
    "threshold = 0.5\n",
    "#predict the labels of training data\n",
    "y_pred_test3=np.round(model_2.predict(x_test1)>threshold,0).astype(int)\n",
    "\n",
    "#generate classification report\n",
    "from sklearn.metrics import classification_report\n",
    "print(classification_report(y_test1,y_pred_test3))"
   ]
  },
  {
   "cell_type": "code",
   "execution_count": 61,
   "metadata": {
    "colab": {
     "base_uri": "https://localhost:8080/",
     "height": 334
    },
    "id": "xERZlt6vFkju",
    "outputId": "ab25dfb0-f78d-4dad-f20b-a6ca5a298650"
   },
   "outputs": [
    {
     "data": {
      "image/png": "[encoded data removed]",
      "text/plain": [
       "<Figure size 504x360 with 2 Axes>"
      ]
     },
     "metadata": {
      "needs_background": "light"
     },
     "output_type": "display_data"
    }
   ],
   "source": [
    "#create confusion matrix\n",
    "cm=confusion_matrix(y_test1,y_pred_test3)\n",
    "\n",
    "plt.figure(figsize=(7,5))\n",
    "sns.heatmap(cm,annot=True,fmt='d',cmap='viridis')\n",
    "plt.xlabel('Predicted')\n",
    "plt.ylabel('Truth')\n",
    "plt.show()"
   ]
  },
  {
   "cell_type": "markdown",
   "metadata": {
    "id": "xHXNO-UyFkjv"
   },
   "source": [
    "### Optimization"
   ]
  },
  {
   "cell_type": "code",
   "execution_count": 62,
   "metadata": {
    "colab": {
     "base_uri": "https://localhost:8080/"
    },
    "id": "tp7q8sMnFkjw",
    "outputId": "8265cb52-09b4-4864-80bc-64a78ca374f5"
   },
   "outputs": [
    {
     "name": "stdout",
     "output_type": "stream",
     "text": [
      "0.2471463\n"
     ]
    }
   ],
   "source": [
    "#optimal threshold as per AUC-ROC curve\n",
    "fpr, tpr, thresholds = roc_curve(y_test1, model_2.predict(x_test1))\n",
    "\n",
    "optimal_idx = np.argmax(tpr - fpr)\n",
    "optimal_threshold_auc_roc = thresholds[optimal_idx]\n",
    "print(optimal_threshold_auc_roc)"
   ]
  },
  {
   "cell_type": "code",
   "execution_count": 63,
   "metadata": {
    "colab": {
     "base_uri": "https://localhost:8080/"
    },
    "id": "oUDeDJXdFkjw",
    "outputId": "950825a1-b360-45fd-ace1-1bc9c877668c"
   },
   "outputs": [
    {
     "name": "stdout",
     "output_type": "stream",
     "text": [
      "              precision    recall  f1-score   support\n",
      "\n",
      "           0       0.92      0.85      0.89      1585\n",
      "           1       0.56      0.73      0.64       415\n",
      "\n",
      "    accuracy                           0.83      2000\n",
      "   macro avg       0.74      0.79      0.76      2000\n",
      "weighted avg       0.85      0.83      0.83      2000\n",
      "\n"
     ]
    }
   ],
   "source": [
    "#set optimal threshold\n",
    "threshold = optimal_threshold_auc_roc\n",
    "#predict the labels of training data\n",
    "y_pred_test4=np.round(model_2.predict(x_test1)>threshold,0).astype(int)\n",
    "\n",
    "#generate classification report\n",
    "print(classification_report(y_test1,y_pred_test4))"
   ]
  },
  {
   "cell_type": "code",
   "execution_count": 64,
   "metadata": {
    "colab": {
     "base_uri": "https://localhost:8080/",
     "height": 334
    },
    "id": "akWmkHSHFkjw",
    "outputId": "0ad3157f-7ab7-40f4-924b-e5cbc8c3f24d"
   },
   "outputs": [
    {
     "data": {
      "image/png": "[encoded data removed]",
      "text/plain": [
       "<Figure size 504x360 with 2 Axes>"
      ]
     },
     "metadata": {
      "needs_background": "light"
     },
     "output_type": "display_data"
    }
   ],
   "source": [
    "#create confusion matrix\n",
    "cm=confusion_matrix(y_test1,y_pred_test4)\n",
    "\n",
    "plt.figure(figsize=(7,5))\n",
    "sns.heatmap(cm,annot=True,fmt='d',cmap='viridis')\n",
    "plt.xlabel('Predicted')\n",
    "plt.ylabel('Truth')\n",
    "plt.show()"
   ]
  },
  {
   "cell_type": "markdown",
   "metadata": {
    "id": "wTgycpUXGsnF"
   },
   "source": [
    "## Models 5 & 6: Incorporate batch normalization and dropout layers "
   ]
  },
  {
   "cell_type": "markdown",
   "metadata": {
    "id": "AGmfXiZcGsnR"
   },
   "source": [
    "### Building"
   ]
  },
  {
   "cell_type": "code",
   "execution_count": 65,
   "metadata": {
    "id": "apKh73_5mu0b"
   },
   "outputs": [],
   "source": [
    "backend.clear_session()\n",
    "#Setting the seed for random number generators\n",
    "np.random.seed(42)\n",
    "import random\n",
    "random.seed(42)\n",
    "tf.random.set_seed(42)"
   ]
  },
  {
   "cell_type": "code",
   "execution_count": 66,
   "metadata": {
    "id": "AAjTScipGsnR"
   },
   "outputs": [],
   "source": [
    "#select layers within the neural network\n",
    "model_3 = Sequential()\n",
    "model_3.add(Dense(12, activation='relu',input_shape=(x_train1.shape[1],))) #input layer\n",
    "model_3.add(BatchNormalization()) #batch normalization\n",
    "model_3.add(Dense(9, activation='relu')) #hidden layer\n",
    "model_3.add(Dropout(0.1)) #dropout 10% of training data\n",
    "model_3.add(BatchNormalization()) #batch normalization\n",
    "model_3.add(Dense(6, activation='relu')) #hidden layer\n",
    "model_3.add(BatchNormalization()) #batch normalization\n",
    "model_3.add(Dropout(0.1)) #dropout 10% of training data\n",
    "model_3.add(Dense(3, activation='relu')) #hidden layer\n",
    "model_3.add(Dense(1, activation='sigmoid')) #output layer"
   ]
  },
  {
   "cell_type": "code",
   "execution_count": 67,
   "metadata": {
    "id": "U_-qCTt6GsnR"
   },
   "outputs": [],
   "source": [
    "#select optimizer, loss function, and target metric\n",
    "adam = Adam(learning_rate=1e-3)\n",
    "model_3.compile(loss='binary_crossentropy', optimizer=adam, metrics=metric)"
   ]
  },
  {
   "cell_type": "code",
   "execution_count": 68,
   "metadata": {
    "colab": {
     "base_uri": "https://localhost:8080/"
    },
    "id": "t4O59iFrGsnR",
    "outputId": "a34d6e9a-4288-48f7-f7f7-c3f18c5b68e2"
   },
   "outputs": [
    {
     "name": "stdout",
     "output_type": "stream",
     "text": [
      "Model: \"sequential\"\n",
      "_________________________________________________________________\n",
      " Layer (type)                Output Shape              Param #   \n",
      "=================================================================\n",
      " dense (Dense)               (None, 12)                156       \n",
      "                                                                 \n",
      " batch_normalization (BatchN  (None, 12)               48        \n",
      " ormalization)                                                   \n",
      "                                                                 \n",
      " dense_1 (Dense)             (None, 9)                 117       \n",
      "                                                                 \n",
      " dropout (Dropout)           (None, 9)                 0         \n",
      "                                                                 \n",
      " batch_normalization_1 (Batc  (None, 9)                36        \n",
      " hNormalization)                                                 \n",
      "                                                                 \n",
      " dense_2 (Dense)             (None, 6)                 60        \n",
      "                                                                 \n",
      " batch_normalization_2 (Batc  (None, 6)                24        \n",
      " hNormalization)                                                 \n",
      "                                                                 \n",
      " dropout_1 (Dropout)         (None, 6)                 0         \n",
      "                                                                 \n",
      " dense_3 (Dense)             (None, 3)                 21        \n",
      "                                                                 \n",
      " dense_4 (Dense)             (None, 1)                 4         \n",
      "                                                                 \n",
      "=================================================================\n",
      "Total params: 466\n",
      "Trainable params: 412\n",
      "Non-trainable params: 54\n",
      "_________________________________________________________________\n"
     ]
    }
   ],
   "source": [
    "#provide summary of model\n",
    "model_3.summary()"
   ]
  },
  {
   "cell_type": "markdown",
   "metadata": {
    "id": "T_4I1y2nGsnR"
   },
   "source": [
    "### Training"
   ]
  },
  {
   "cell_type": "code",
   "execution_count": 69,
   "metadata": {
    "id": "wVZ3CI0nGsnR"
   },
   "outputs": [],
   "source": [
    "#train model across select number of epochs\n",
    "epochs=30\n",
    "history = model_3.fit(x_train1, y_train1, validation_split=0.2, epochs=epochs, verbose=0)"
   ]
  },
  {
   "cell_type": "code",
   "execution_count": 70,
   "metadata": {
    "colab": {
     "base_uri": "https://localhost:8080/",
     "height": 350
    },
    "id": "m453LkWzGsnS",
    "outputId": "6534be93-c3ba-4fdd-e1d1-2ec3ae1010f9"
   },
   "outputs": [
    {
     "data": {
      "image/png": "[encoded data removed]",
      "text/plain": [
       "<Figure size 504x360 with 1 Axes>"
      ]
     },
     "metadata": {
      "needs_background": "light"
     },
     "output_type": "display_data"
    }
   ],
   "source": [
    "#plot progression of losses across training epochs\n",
    "N = epochs\n",
    "plt.figure(figsize=(7,5))\n",
    "plt.plot(np.arange(0, N), history.history[\"loss\"], label=\"training\")\n",
    "plt.plot(np.arange(0, N), history.history[\"val_loss\"], label=\"validation\")\n",
    "\n",
    "plt.title(\"Training and validation losses across epochs\")\n",
    "plt.xlabel(\"Epoch\")\n",
    "plt.ylabel(\"Losses\")\n",
    "plt.legend(loc=\"best\")\n",
    "plt.show()"
   ]
  },
  {
   "cell_type": "code",
   "execution_count": 71,
   "metadata": {
    "colab": {
     "base_uri": "https://localhost:8080/",
     "height": 294
    },
    "id": "i_pFWXhEGsnS",
    "outputId": "8f1e9e0a-4204-46b0-ad96-61dfae01d82d"
   },
   "outputs": [
    {
     "data": {
      "image/png": "[encoded data removed]",
      "text/plain": [
       "<Figure size 432x288 with 1 Axes>"
      ]
     },
     "metadata": {
      "needs_background": "light"
     },
     "output_type": "display_data"
    }
   ],
   "source": [
    "#plot progression of accuracy across training epochs\n",
    "loss, accuracy  = model_3.evaluate(x_train1, y_train1, verbose=False)\n",
    "    \n",
    "plt.plot(history.history['auc'])\n",
    "plt.plot(history.history['val_auc'])\n",
    "plt.title('Model AUC across epochs')\n",
    "plt.ylabel('AUC')\n",
    "plt.xlabel('Epoch')\n",
    "plt.legend(['training', 'validation'], loc='best')\n",
    "plt.show()"
   ]
  },
  {
   "cell_type": "markdown",
   "metadata": {
    "id": "affP13Jvtgef"
   },
   "source": [
    "- The ANN trained appears to minimally overfit the training data and to have reached a steady state of performance prior to the final epoch.\n",
    "- Additionally, the ANN appears to perform consistently better on the validation data than the training data across the epochs."
   ]
  },
  {
   "cell_type": "markdown",
   "metadata": {
    "id": "8KDJmbfJGsnS"
   },
   "source": [
    "### Testing"
   ]
  },
  {
   "cell_type": "code",
   "execution_count": 72,
   "metadata": {
    "colab": {
     "base_uri": "https://localhost:8080/",
     "height": 350
    },
    "id": "JaKwRuMKGsnS",
    "outputId": "c3a95762-c022-42ed-f3a4-73797a9b7a12"
   },
   "outputs": [
    {
     "data": {
      "image/png": "[encoded data removed]",
      "text/plain": [
       "<Figure size 504x360 with 1 Axes>"
      ]
     },
     "metadata": {
      "needs_background": "light"
     },
     "output_type": "display_data"
    }
   ],
   "source": [
    "#plot ROC curve on testing data\n",
    "roc_auc_test_3 = roc_auc_score(y_test1, model_3.predict(x_test1))\n",
    "fpr, tpr, thresholds = roc_curve(y_test1, model_3.predict(x_test1))\n",
    "plt.figure(figsize=(7, 5))\n",
    "plt.plot(fpr, tpr, label=\"Model_1 (area = %0.2f)\" % roc_auc_test_3)\n",
    "plt.plot([0, 1], [0, 1], \"r--\")\n",
    "plt.xlim([0.0, 1.0])\n",
    "plt.ylim([0.0, 1.01])\n",
    "plt.xlabel(\"False Positive Rate\")\n",
    "plt.ylabel(\"True Positive Rate\")\n",
    "plt.title(\"Receiver operating characteristic\")\n",
    "plt.legend(loc=\"lower right\")\n",
    "plt.show()"
   ]
  },
  {
   "cell_type": "code",
   "execution_count": 73,
   "metadata": {
    "colab": {
     "base_uri": "https://localhost:8080/"
    },
    "id": "a74JSoS3GsnS",
    "outputId": "d222f6da-9cd7-4e54-8895-5e1022760110"
   },
   "outputs": [
    {
     "name": "stdout",
     "output_type": "stream",
     "text": [
      "              precision    recall  f1-score   support\n",
      "\n",
      "           0       0.87      0.97      0.92      1585\n",
      "           1       0.79      0.44      0.57       415\n",
      "\n",
      "    accuracy                           0.86      2000\n",
      "   macro avg       0.83      0.71      0.74      2000\n",
      "weighted avg       0.85      0.86      0.84      2000\n",
      "\n"
     ]
    }
   ],
   "source": [
    "#set baseline threshold\n",
    "threshold = 0.5\n",
    "#predict the labels of training data\n",
    "y_pred_test5=np.round(model_3.predict(x_test1)>threshold,0).astype(int)\n",
    "\n",
    "#generate classification report\n",
    "from sklearn.metrics import classification_report\n",
    "print(classification_report(y_test1,y_pred_test5))"
   ]
  },
  {
   "cell_type": "code",
   "execution_count": 74,
   "metadata": {
    "colab": {
     "base_uri": "https://localhost:8080/",
     "height": 334
    },
    "id": "JqXVuYzbGsnS",
    "outputId": "73d99f2d-2bbd-4b9d-ee64-58b6dc230402"
   },
   "outputs": [
    {
     "data": {
      "image/png": "[encoded data removed]",
      "text/plain": [
       "<Figure size 504x360 with 2 Axes>"
      ]
     },
     "metadata": {
      "needs_background": "light"
     },
     "output_type": "display_data"
    }
   ],
   "source": [
    "#create confusion matrix\n",
    "cm=confusion_matrix(y_test1,y_pred_test5)\n",
    "\n",
    "plt.figure(figsize=(7,5))\n",
    "sns.heatmap(cm,annot=True,fmt='d',cmap='viridis')\n",
    "plt.xlabel('Predicted')\n",
    "plt.ylabel('Truth')\n",
    "plt.show()"
   ]
  },
  {
   "cell_type": "markdown",
   "metadata": {
    "id": "LFBaqW-5GsnS"
   },
   "source": [
    "### Optimization"
   ]
  },
  {
   "cell_type": "code",
   "execution_count": 75,
   "metadata": {
    "colab": {
     "base_uri": "https://localhost:8080/"
    },
    "id": "v8DPwfr8GsnT",
    "outputId": "f9e78646-611f-4c59-884c-c9ec60146abd"
   },
   "outputs": [
    {
     "name": "stdout",
     "output_type": "stream",
     "text": [
      "0.21930292\n"
     ]
    }
   ],
   "source": [
    "#optimal threshold as per AUC-ROC curve\n",
    "fpr, tpr, thresholds = roc_curve(y_test1, model_3.predict(x_test1))\n",
    "\n",
    "optimal_idx = np.argmax(tpr - fpr)\n",
    "optimal_threshold_auc_roc = thresholds[optimal_idx]\n",
    "print(optimal_threshold_auc_roc)"
   ]
  },
  {
   "cell_type": "code",
   "execution_count": 76,
   "metadata": {
    "colab": {
     "base_uri": "https://localhost:8080/"
    },
    "id": "osW30w0uGsnT",
    "outputId": "6d863fa8-6a4d-4fd3-e784-15fe14635b5d"
   },
   "outputs": [
    {
     "name": "stdout",
     "output_type": "stream",
     "text": [
      "              precision    recall  f1-score   support\n",
      "\n",
      "           0       0.93      0.83      0.88      1585\n",
      "           1       0.53      0.74      0.62       415\n",
      "\n",
      "    accuracy                           0.81      2000\n",
      "   macro avg       0.73      0.79      0.75      2000\n",
      "weighted avg       0.84      0.81      0.82      2000\n",
      "\n"
     ]
    }
   ],
   "source": [
    "#set optimal threshold\n",
    "threshold = optimal_threshold_auc_roc\n",
    "#predict the labels of training data\n",
    "y_pred_test6=np.round(model_3.predict(x_test1)>threshold,0).astype(int)\n",
    "\n",
    "#generate classification report\n",
    "print(classification_report(y_test1,y_pred_test6))"
   ]
  },
  {
   "cell_type": "code",
   "execution_count": 77,
   "metadata": {
    "colab": {
     "base_uri": "https://localhost:8080/",
     "height": 334
    },
    "id": "q9xRzB_FGsnT",
    "outputId": "6c40486f-e5dd-42a2-fdb0-58f6b5b18ca5"
   },
   "outputs": [
    {
     "data": {
      "image/png": "[encoded data removed]",
      "text/plain": [
       "<Figure size 504x360 with 2 Axes>"
      ]
     },
     "metadata": {
      "needs_background": "light"
     },
     "output_type": "display_data"
    }
   ],
   "source": [
    "#create confusion matrix\n",
    "cm=confusion_matrix(y_test1,y_pred_test6)\n",
    "\n",
    "plt.figure(figsize=(7,5))\n",
    "sns.heatmap(cm,annot=True,fmt='d',cmap='viridis')\n",
    "plt.xlabel('Predicted')\n",
    "plt.ylabel('Truth')\n",
    "plt.show()"
   ]
  },
  {
   "cell_type": "markdown",
   "metadata": {
    "id": "HzA22Pc3E2Kn"
   },
   "source": [
    "## Model 7 & 8: Randomized Search CV\n",
    "\n",
    "- To implement a Randomized Search, we need to define a model function that can take in the hyper parameters. Note, we will use a Wrapper Class to integrate a NN model with Randomized Search."
   ]
  },
  {
   "cell_type": "code",
   "execution_count": 78,
   "metadata": {
    "id": "Xk6nUvgPS2s5"
   },
   "outputs": [],
   "source": [
    "from tensorflow.keras.optimizers import RMSprop\n",
    "from tensorflow.keras.optimizers import SGD\n",
    "\n",
    "rms = RMSprop()\n",
    "sgd = SGD()\n",
    "adam1 = Adam()"
   ]
  },
  {
   "cell_type": "code",
   "execution_count": 79,
   "metadata": {
    "id": "eMfYQIouE2Kn"
   },
   "outputs": [],
   "source": [
    "# ------------------- L1 Regularizer-----------------------\n",
    "\n",
    "def build_model(n_hidden_layer=1, n_neurons=12, input_shape=X_train.shape[1], learning_rate=0.01, active=\"relu\", drop=0.1, optimizers=adam1):\n",
    "\n",
    "    # 1. Sequential model: create model; Initializes the model\n",
    "    model = Sequential()\n",
    "    \n",
    "    model.add(keras.Input(shape=(input_shape,))) #specify the shape of input Layer\n",
    "    \n",
    "    #---------------------The number of neurons in layer n+1 is 2/3 * Number of neurons in layer n---------------\n",
    "    \n",
    "    for layer in range(n_hidden_layer):\n",
    "        \n",
    "        model.add(Dense(n_neurons, activation=active, kernel_regularizer=tf.keras.regularizers.L1(0.01)))\n",
    "\n",
    "        if n_hidden_layer%2==0:\n",
    "          \n",
    "          model.add(Dropout(drop)) #Adding\n",
    "        \n",
    "        n_neurons=int(round(n_neurons*2/3))\n",
    "    \n",
    "    model.add(Dense(1, activation = 'sigmoid'))\n",
    "    \n",
    "    # Compile model\n",
    "    \n",
    "    optimizer=optimizers\n",
    "\n",
    "    model.compile(optimizer = optimizer, loss = 'binary_crossentropy', metrics=metric) \n",
    "    \n",
    "    return model"
   ]
  },
  {
   "cell_type": "code",
   "execution_count": 80,
   "metadata": {
    "id": "_f64-CkFE2Ko"
   },
   "outputs": [],
   "source": [
    "from tensorflow.keras.wrappers.scikit_learn import KerasClassifier\n",
    " \n",
    "model_opt = KerasClassifier(build_fn=build_model, epochs=30, batch_size=32, verbose=0)"
   ]
  },
  {
   "cell_type": "code",
   "execution_count": 81,
   "metadata": {
    "colab": {
     "base_uri": "https://localhost:8080/"
    },
    "id": "N8iRMIV-E2Ko",
    "outputId": "2ea6a339-14df-4450-f6b6-5bc57746eb97"
   },
   "outputs": [
    {
     "data": {
      "text/plain": [
       "RandomizedSearchCV(cv=3,\n",
       "                   estimator=<keras.wrappers.scikit_learn.KerasClassifier object at 0x7f41e80fded0>,\n",
       "                   n_iter=5,\n",
       "                   param_distributions={'active': ['relu', 'selu'],\n",
       "                                        'learning_rate': [0.001, 0.01],\n",
       "                                        'n_hidden_layer': [2, 3, 4, 5],\n",
       "                                        'n_neurons': [9, 12, 15, 18],\n",
       "                                        'optimizers': [<keras.optimizer_v2.adam.Adam object at 0x7f41562f5f50>,\n",
       "                                                       <keras.optimizer_v2.gradient_descent.SGD object at 0x7f41562f77d0>,\n",
       "                                                       <keras.optimizer_v2.rmsprop.RMSprop object at 0x7f41562f5210>]},\n",
       "                   random_state=42, scoring='f1')"
      ]
     },
     "execution_count": 81,
     "metadata": {},
     "output_type": "execute_result"
    }
   ],
   "source": [
    "from sklearn.model_selection import RandomizedSearchCV\n",
    "\n",
    "param_distribution = {\n",
    "    \"n_hidden_layer\": [2,3,4,5],\n",
    "    \"n_neurons\": [9,12,15,18],\n",
    "    \"active\": ['relu', 'selu'],\n",
    "    \"learning_rate\": [0.001,0.01],\n",
    "    \"optimizers\":[adam1,sgd,rms]\n",
    "}\n",
    "\n",
    "#Randomized Search CV: K-fold cross-validation to determine the optimal hyperparameters\n",
    "\n",
    "random_search_cv = RandomizedSearchCV(model_opt, param_distribution, n_iter=5, cv=3, scoring='f1', random_state=42)\n",
    "\n",
    "random_search_cv.fit(X_train, y_train)"
   ]
  },
  {
   "cell_type": "code",
   "execution_count": 82,
   "metadata": {
    "colab": {
     "base_uri": "https://localhost:8080/"
    },
    "id": "r5OSKIizvJE3",
    "outputId": "62bac494-a119-4bf0-f0f2-67619a690f72"
   },
   "outputs": [
    {
     "name": "stdout",
     "output_type": "stream",
     "text": [
      "Best hyperparameters: {'optimizers': <keras.optimizer_v2.rmsprop.RMSprop object at 0x7f41562f5210>, 'n_neurons': 18, 'n_hidden_layer': 5, 'learning_rate': 0.001, 'active': 'selu'}\n"
     ]
    }
   ],
   "source": [
    "print(\"Best hyperparameters: %s\" % (random_search_cv.best_params_))"
   ]
  },
  {
   "cell_type": "code",
   "execution_count": 83,
   "metadata": {
    "id": "VK2eAAqIJ_LU"
   },
   "outputs": [],
   "source": [
    "model_tuned = random_search_cv.best_estimator_.model"
   ]
  },
  {
   "cell_type": "markdown",
   "metadata": {
    "id": "OqJjnDmHcG-3"
   },
   "source": [
    "### Testing"
   ]
  },
  {
   "cell_type": "code",
   "execution_count": 84,
   "metadata": {
    "colab": {
     "base_uri": "https://localhost:8080/",
     "height": 350
    },
    "id": "IX55NNVncG-4",
    "outputId": "54636d7f-d277-4f7c-ca32-e608ed16f05b"
   },
   "outputs": [
    {
     "data": {
      "image/png": "[encoded data removed]",
      "text/plain": [
       "<Figure size 504x360 with 1 Axes>"
      ]
     },
     "metadata": {
      "needs_background": "light"
     },
     "output_type": "display_data"
    }
   ],
   "source": [
    "#plot ROC curve on testing data\n",
    "roc_auc_test_4 = roc_auc_score(y_test1, model_tuned.predict(x_test1))\n",
    "fpr, tpr, thresholds = roc_curve(y_test1, model_tuned.predict(x_test1))\n",
    "plt.figure(figsize=(7, 5))\n",
    "plt.plot(fpr, tpr, label=\"Model_1 (area = %0.2f)\" % roc_auc_test_4)\n",
    "plt.plot([0, 1], [0, 1], \"r--\")\n",
    "plt.xlim([0.0, 1.0])\n",
    "plt.ylim([0.0, 1.01])\n",
    "plt.xlabel(\"False Positive Rate\")\n",
    "plt.ylabel(\"True Positive Rate\")\n",
    "plt.title(\"Receiver operating characteristic\")\n",
    "plt.legend(loc=\"lower right\")\n",
    "plt.show()"
   ]
  },
  {
   "cell_type": "code",
   "execution_count": 85,
   "metadata": {
    "colab": {
     "base_uri": "https://localhost:8080/"
    },
    "id": "Ixm0gAyMaOyH",
    "outputId": "31250cab-3858-4c16-df30-d4d878fd3b30"
   },
   "outputs": [
    {
     "name": "stdout",
     "output_type": "stream",
     "text": [
      "              precision    recall  f1-score   support\n",
      "\n",
      "           0       0.87      0.97      0.92      1585\n",
      "           1       0.79      0.44      0.56       415\n",
      "\n",
      "    accuracy                           0.86      2000\n",
      "   macro avg       0.83      0.70      0.74      2000\n",
      "weighted avg       0.85      0.86      0.84      2000\n",
      "\n"
     ]
    }
   ],
   "source": [
    "#set baseline threshold\n",
    "threshold = 0.5\n",
    "#predict the labels of training data\n",
    "y_pred_test7=np.round(model_tuned.predict(x_test1)>threshold,0).astype(int)\n",
    "\n",
    "#generate classification report\n",
    "from sklearn.metrics import classification_report\n",
    "print(classification_report(y_test1,y_pred_test7))"
   ]
  },
  {
   "cell_type": "code",
   "execution_count": 86,
   "metadata": {
    "colab": {
     "base_uri": "https://localhost:8080/",
     "height": 334
    },
    "id": "87sYhIvRbdeF",
    "outputId": "af79d4cb-6307-4e6a-bb6a-48239085a1c4"
   },
   "outputs": [
    {
     "data": {
      "image/png": "[encoded data removed]",
      "text/plain": [
       "<Figure size 504x360 with 2 Axes>"
      ]
     },
     "metadata": {
      "needs_background": "light"
     },
     "output_type": "display_data"
    }
   ],
   "source": [
    "#create confusion matrix\n",
    "cm=confusion_matrix(y_test1,y_pred_test7)\n",
    "\n",
    "plt.figure(figsize=(7,5))\n",
    "sns.heatmap(cm,annot=True,fmt='d',cmap='viridis')\n",
    "plt.xlabel('Predicted')\n",
    "plt.ylabel('Truth')\n",
    "plt.show()"
   ]
  },
  {
   "cell_type": "markdown",
   "metadata": {
    "id": "8SgPNhVybdeG"
   },
   "source": [
    "### Optimization"
   ]
  },
  {
   "cell_type": "code",
   "execution_count": 87,
   "metadata": {
    "colab": {
     "base_uri": "https://localhost:8080/"
    },
    "id": "pwrgTGazbdeG",
    "outputId": "70f1f971-2dcf-4e05-fd71-7f0f367b4ef4"
   },
   "outputs": [
    {
     "name": "stdout",
     "output_type": "stream",
     "text": [
      "0.17216419\n"
     ]
    }
   ],
   "source": [
    "#optimal threshold as per AUC-ROC curve\n",
    "fpr, tpr, thresholds = roc_curve(y_test1, model_tuned.predict(x_test1))\n",
    "\n",
    "optimal_idx = np.argmax(tpr - fpr)\n",
    "optimal_threshold_auc_roc = thresholds[optimal_idx]\n",
    "print(optimal_threshold_auc_roc)"
   ]
  },
  {
   "cell_type": "code",
   "execution_count": 88,
   "metadata": {
    "colab": {
     "base_uri": "https://localhost:8080/"
    },
    "id": "DMOkfOOrbdeH",
    "outputId": "6f98e450-3c1a-44c4-9775-cbfa5c1f7441"
   },
   "outputs": [
    {
     "name": "stdout",
     "output_type": "stream",
     "text": [
      "              precision    recall  f1-score   support\n",
      "\n",
      "           0       0.93      0.82      0.87      1585\n",
      "           1       0.52      0.75      0.61       415\n",
      "\n",
      "    accuracy                           0.80      2000\n",
      "   macro avg       0.72      0.78      0.74      2000\n",
      "weighted avg       0.84      0.80      0.81      2000\n",
      "\n"
     ]
    }
   ],
   "source": [
    "#set optimal threshold\n",
    "threshold = optimal_threshold_auc_roc\n",
    "#predict the labels of training data\n",
    "y_pred_test8=np.round(model_tuned.predict(x_test1)>threshold,0).astype(int)\n",
    "\n",
    "#generate classification report\n",
    "print(classification_report(y_test1,y_pred_test8))"
   ]
  },
  {
   "cell_type": "code",
   "execution_count": 89,
   "metadata": {
    "colab": {
     "base_uri": "https://localhost:8080/",
     "height": 334
    },
    "id": "zeJ1G66kbdeH",
    "outputId": "16f651bd-582c-4873-c4be-64230e31d494"
   },
   "outputs": [
    {
     "data": {
      "image/png": "[encoded data removed]",
      "text/plain": [
       "<Figure size 504x360 with 2 Axes>"
      ]
     },
     "metadata": {
      "needs_background": "light"
     },
     "output_type": "display_data"
    }
   ],
   "source": [
    "#create confusion matrix\n",
    "cm=confusion_matrix(y_test1,y_pred_test8)\n",
    "\n",
    "plt.figure(figsize=(7,5))\n",
    "sns.heatmap(cm,annot=True,fmt='d',cmap='viridis')\n",
    "plt.xlabel('Predicted')\n",
    "plt.ylabel('Truth')\n",
    "plt.show()"
   ]
  },
  {
   "cell_type": "markdown",
   "metadata": {
    "id": "QWDu8jxZH4Xt"
   },
   "source": [
    "## Models summary"
   ]
  },
  {
   "cell_type": "code",
   "execution_count": 90,
   "metadata": {
    "colab": {
     "base_uri": "https://localhost:8080/"
    },
    "id": "aBxlJ6b1LnWf",
    "outputId": "cc400d6f-a403-4373-ee25-a69208f8c6bf"
   },
   "outputs": [
    {
     "name": "stdout",
     "output_type": "stream",
     "text": [
      "Model 1\n",
      "              precision    recall  f1-score   support\n",
      "\n",
      "           0       0.88      0.96      0.92      1585\n",
      "           1       0.75      0.50      0.60       415\n",
      "\n",
      "    accuracy                           0.86      2000\n",
      "   macro avg       0.81      0.73      0.76      2000\n",
      "weighted avg       0.85      0.86      0.85      2000\n",
      "\n",
      " \n",
      "Model 2\n",
      "              precision    recall  f1-score   support\n",
      "\n",
      "           0       0.93      0.77      0.84      1585\n",
      "           1       0.47      0.79      0.59       415\n",
      "\n",
      "    accuracy                           0.78      2000\n",
      "   macro avg       0.70      0.78      0.72      2000\n",
      "weighted avg       0.84      0.78      0.79      2000\n",
      "\n",
      " \n",
      "Model 3\n",
      "              precision    recall  f1-score   support\n",
      "\n",
      "           0       0.88      0.96      0.92      1585\n",
      "           1       0.76      0.48      0.59       415\n",
      "\n",
      "    accuracy                           0.86      2000\n",
      "   macro avg       0.82      0.72      0.75      2000\n",
      "weighted avg       0.85      0.86      0.85      2000\n",
      "\n",
      " \n",
      "Model 4\n",
      "              precision    recall  f1-score   support\n",
      "\n",
      "           0       0.92      0.85      0.89      1585\n",
      "           1       0.56      0.73      0.64       415\n",
      "\n",
      "    accuracy                           0.83      2000\n",
      "   macro avg       0.74      0.79      0.76      2000\n",
      "weighted avg       0.85      0.83      0.83      2000\n",
      "\n",
      " \n",
      "Model 5\n",
      "              precision    recall  f1-score   support\n",
      "\n",
      "           0       0.87      0.97      0.92      1585\n",
      "           1       0.79      0.44      0.57       415\n",
      "\n",
      "    accuracy                           0.86      2000\n",
      "   macro avg       0.83      0.71      0.74      2000\n",
      "weighted avg       0.85      0.86      0.84      2000\n",
      "\n",
      " \n",
      "Model 6\n",
      "              precision    recall  f1-score   support\n",
      "\n",
      "           0       0.93      0.83      0.88      1585\n",
      "           1       0.53      0.74      0.62       415\n",
      "\n",
      "    accuracy                           0.81      2000\n",
      "   macro avg       0.73      0.79      0.75      2000\n",
      "weighted avg       0.84      0.81      0.82      2000\n",
      "\n",
      " \n",
      "Model 7\n",
      "              precision    recall  f1-score   support\n",
      "\n",
      "           0       0.87      0.97      0.92      1585\n",
      "           1       0.79      0.44      0.56       415\n",
      "\n",
      "    accuracy                           0.86      2000\n",
      "   macro avg       0.83      0.70      0.74      2000\n",
      "weighted avg       0.85      0.86      0.84      2000\n",
      "\n",
      " \n",
      "Model 8\n",
      "              precision    recall  f1-score   support\n",
      "\n",
      "           0       0.93      0.82      0.87      1585\n",
      "           1       0.52      0.75      0.61       415\n",
      "\n",
      "    accuracy                           0.80      2000\n",
      "   macro avg       0.72      0.78      0.74      2000\n",
      "weighted avg       0.84      0.80      0.81      2000\n",
      "\n",
      " \n"
     ]
    }
   ],
   "source": [
    "#list of predictions for all models generated\n",
    "y_pred_tests = [y_pred_test1,y_pred_test2,y_pred_test3,y_pred_test4,y_pred_test5,y_pred_test6,y_pred_test7,y_pred_test8]\n",
    "\n",
    "modelx = 1\n",
    "\n",
    "#generate classification reports\n",
    "for y_pred in y_pred_tests:\n",
    "  print(\"Model \"+str(modelx))\n",
    "  print(classification_report(y_test1,y_pred))\n",
    "  print(\" \")\n",
    "  modelx+=1"
   ]
  },
  {
   "cell_type": "markdown",
   "metadata": {
    "id": "tuLLl_WLH7vP"
   },
   "source": [
    "## Conclusions"
   ]
  },
  {
   "cell_type": "markdown",
   "metadata": {
    "id": "aGlM3chRm6r1"
   },
   "source": [
    "**Criteria**\n",
    "- My opinion of the best overall model is determined by the highest weighted average F1 score. This model provides the best combination of precision and recall across both possible outcomes.\n",
    "\n",
    "- However, if the costs of attracting new customers outweights the costs of retaining an existing customer, then the best model would be the one which provides the highest F1 score for the prediciting an exiting customer (i.e., 1).\n",
    "\n",
    "**Recommendation**\n",
    "- Across all models with either a baseline (50%) threshold or the optimal threshold, I'd recommend the client select one of two models based on the preceding two rationales:\n",
    "  - Model 1: KISS principle\n",
    "    - The baseline model with a baseline threshold provides an equivalent F1 score, but, as a tie-breaker, also provides a minimally better score for exiting customers than Model 3.\n",
    "  - Model 4: Find me the needles\n",
    "    - With additional layers and an optimal threshold, this model provides the best capability of identifying an exiting customer amongst a population of all customers."
   ]
  }
 ],
 "metadata": {
  "accelerator": "GPU",
  "colab": {
   "collapsed_sections": [],
   "name": "Bank_Churn_Prediction.ipynb",
   "provenance": []
  },
  "interpreter": {
   "hash": "d305d341dcf765741621c3ba47f91396df1aaaf8d2e5682afd6c7693bb4c5810"
  },
  "kernelspec": {
   "display_name": "Python 3.10.2 64-bit",
   "language": "python",
   "name": "python3"
  },
  "language_info": {
   "codemirror_mode": {
    "name": "ipython",
    "version": 3
   },
   "file_extension": ".py",
   "mimetype": "text/x-python",
   "name": "python",
   "nbconvert_exporter": "python",
   "pygments_lexer": "ipython3",
   "version": "3.10.2"
  }
 },
 "nbformat": 4,
 "nbformat_minor": 1
}
